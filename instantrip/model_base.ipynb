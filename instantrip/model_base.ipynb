{
  "cells": [
    {
      "cell_type": "code",
      "source": [
        "# # 날짜 간 차이 계산\n",
        "# df['next_date'] = df['date'] + pd.Timedelta(days=1)\n",
        "# df['date_diff'] = df['next_date'] - df['date']\n",
        "\n",
        "# print(df)\n",
        "\n",
        "# # 시간대 설정 및 변환\n",
        "# df['date_utc'] = df['date'].dt.tz_localize('UTC')\n",
        "# df['date_kst'] = df['date_utc'].dt.tz_convert('Asia/Seoul')\n",
        "\n",
        "\n",
        "# # 범주형 피처 인코딩\n",
        "# df = pd.get_dummies(df, columns=['destination'], drop_first=True)\n",
        "\n",
        "# # 피처와 타겟 분리\n",
        "# X = df.drop(columns=['price'])\n",
        "# y = df['price']\n",
        "\n",
        "# # 비행시간 피처 포함 모델\n",
        "# X_train, X_test, y_train, y_test = train_test_split(X, y, test_size=0.2, random_state=42)\n",
        "# model = RandomForestRegressor(n_estimators=100, random_state=42)\n",
        "# model.fit(X_train, y_train)\n",
        "# y_pred = model.predict(X_test)\n",
        "# print(\"MSE with flight_duration:\", mean_squared_error(y_test, y_pred))\n",
        "\n",
        "# # 비행시간 피처 제거 모델\n",
        "# X = X.drop(columns=['flight_duration'])\n",
        "# X_train, X_test, y_train, y_test = train_test_split(X, y, test_size=0.2, random_state=42)\n",
        "# model = RandomForestRegressor(n_estimators=100, random_state=42)\n",
        "# model.fit(X_train, y_train)\n",
        "# y_pred = model.predict(X_test)\n",
        "# print(\"MSE without flight_duration:\", mean_squared_error(y_test, y_pred))\n"
      ],
      "metadata": {
        "id": "JvQPWafGD7F-"
      },
      "execution_count": 1,
      "outputs": []
    },
    {
      "cell_type": "code",
      "source": [
        "!git clone --recursive https://github.com/Microsoft/LightGBM\n",
        "%cd LightGBM\n",
        "!mkdir build\n",
        "%cd build\n",
        "!cmake ../../LightGBM -DUSE_GPU=1\n",
        "!make -j4\n",
        "%cd ../python-package\n",
        "!python3 setup.py install --gpu"
      ],
      "metadata": {
        "id": "yDIvT4kMqnnF",
        "outputId": "3a3101cc-3629-47ca-9a4c-6444da08f6d7",
        "colab": {
          "base_uri": "https://localhost:8080/"
        }
      },
      "execution_count": 2,
      "outputs": [
        {
          "output_type": "stream",
          "name": "stdout",
          "text": [
            "fatal: destination path 'LightGBM' already exists and is not an empty directory.\n",
            "/content/LightGBM\n",
            "mkdir: cannot create directory ‘build’: File exists\n",
            "/content/LightGBM/build\n",
            "-- OpenCL include directory: /usr/include\n",
            "-- Using _mm_prefetch\n",
            "-- Using _mm_malloc\n",
            "-- Configuring done (0.0s)\n",
            "-- Generating done (0.0s)\n",
            "-- Build files have been written to: /content/LightGBM/build\n",
            "[  2%] Built target lightgbm_capi_objs\n",
            "[ 89%] Built target lightgbm_objs\n",
            "[ 92%] Built target _lightgbm\n",
            "[100%] Built target lightgbm\n",
            "/content/LightGBM/python-package\n",
            "python3: can't open file '/content/LightGBM/python-package/setup.py': [Errno 2] No such file or directory\n"
          ]
        }
      ]
    },
    {
      "cell_type": "code",
      "execution_count": 3,
      "metadata": {
        "colab": {
          "base_uri": "https://localhost:8080/",
          "height": 405
        },
        "id": "QIVyTAc79wki",
        "outputId": "113e0072-5fc1-40a2-eb85-87072dc0b31f"
      },
      "outputs": [
        {
          "output_type": "error",
          "ename": "Exception",
          "evalue": "Cannot find lightgbm library file in following paths:\n/content/LightGBM/python-package/lib_lightgbm.so\n/content/LightGBM/python-package/lightgbm/bin/lib_lightgbm.so\n/content/LightGBM/python-package/lightgbm/lib/lib_lightgbm.so",
          "traceback": [
            "\u001b[0;31m---------------------------------------------------------------------------\u001b[0m",
            "\u001b[0;31mException\u001b[0m                                 Traceback (most recent call last)",
            "\u001b[0;32m<ipython-input-3-02108d32ad28>\u001b[0m in \u001b[0;36m<cell line: 1>\u001b[0;34m()\u001b[0m\n\u001b[0;32m----> 1\u001b[0;31m \u001b[0;32mimport\u001b[0m \u001b[0mlightgbm\u001b[0m \u001b[0;32mas\u001b[0m \u001b[0mlgb\u001b[0m\u001b[0;34m\u001b[0m\u001b[0;34m\u001b[0m\u001b[0m\n\u001b[0m\u001b[1;32m      2\u001b[0m \u001b[0;32mfrom\u001b[0m \u001b[0msklearn\u001b[0m\u001b[0;34m.\u001b[0m\u001b[0mmodel_selection\u001b[0m \u001b[0;32mimport\u001b[0m \u001b[0mtrain_test_split\u001b[0m\u001b[0;34m\u001b[0m\u001b[0;34m\u001b[0m\u001b[0m\n\u001b[1;32m      3\u001b[0m \u001b[0;32mfrom\u001b[0m \u001b[0msklearn\u001b[0m\u001b[0;34m.\u001b[0m\u001b[0mpreprocessing\u001b[0m \u001b[0;32mimport\u001b[0m \u001b[0mOneHotEncoder\u001b[0m\u001b[0;34m\u001b[0m\u001b[0;34m\u001b[0m\u001b[0m\n\u001b[1;32m      4\u001b[0m \u001b[0;32mfrom\u001b[0m \u001b[0msklearn\u001b[0m\u001b[0;34m.\u001b[0m\u001b[0mcompose\u001b[0m \u001b[0;32mimport\u001b[0m \u001b[0mColumnTransformer\u001b[0m\u001b[0;34m\u001b[0m\u001b[0;34m\u001b[0m\u001b[0m\n\u001b[1;32m      5\u001b[0m \u001b[0;32mfrom\u001b[0m \u001b[0msklearn\u001b[0m\u001b[0;34m.\u001b[0m\u001b[0mensemble\u001b[0m \u001b[0;32mimport\u001b[0m \u001b[0mRandomForestRegressor\u001b[0m\u001b[0;34m\u001b[0m\u001b[0;34m\u001b[0m\u001b[0m\n",
            "\u001b[0;32m/content/LightGBM/python-package/lightgbm/__init__.py\u001b[0m in \u001b[0;36m<module>\u001b[0;34m\u001b[0m\n\u001b[1;32m      7\u001b[0m \u001b[0;32mfrom\u001b[0m \u001b[0mpathlib\u001b[0m \u001b[0;32mimport\u001b[0m \u001b[0mPath\u001b[0m\u001b[0;34m\u001b[0m\u001b[0;34m\u001b[0m\u001b[0m\n\u001b[1;32m      8\u001b[0m \u001b[0;34m\u001b[0m\u001b[0m\n\u001b[0;32m----> 9\u001b[0;31m \u001b[0;32mfrom\u001b[0m \u001b[0;34m.\u001b[0m\u001b[0mbasic\u001b[0m \u001b[0;32mimport\u001b[0m \u001b[0mBooster\u001b[0m\u001b[0;34m,\u001b[0m \u001b[0mDataset\u001b[0m\u001b[0;34m,\u001b[0m \u001b[0mSequence\u001b[0m\u001b[0;34m,\u001b[0m \u001b[0mregister_logger\u001b[0m\u001b[0;34m\u001b[0m\u001b[0;34m\u001b[0m\u001b[0m\n\u001b[0m\u001b[1;32m     10\u001b[0m \u001b[0;32mfrom\u001b[0m \u001b[0;34m.\u001b[0m\u001b[0mcallback\u001b[0m \u001b[0;32mimport\u001b[0m \u001b[0mEarlyStopException\u001b[0m\u001b[0;34m,\u001b[0m \u001b[0mearly_stopping\u001b[0m\u001b[0;34m,\u001b[0m \u001b[0mlog_evaluation\u001b[0m\u001b[0;34m,\u001b[0m \u001b[0mrecord_evaluation\u001b[0m\u001b[0;34m,\u001b[0m \u001b[0mreset_parameter\u001b[0m\u001b[0;34m\u001b[0m\u001b[0;34m\u001b[0m\u001b[0m\n\u001b[1;32m     11\u001b[0m \u001b[0;32mfrom\u001b[0m \u001b[0;34m.\u001b[0m\u001b[0mengine\u001b[0m \u001b[0;32mimport\u001b[0m \u001b[0mCVBooster\u001b[0m\u001b[0;34m,\u001b[0m \u001b[0mcv\u001b[0m\u001b[0;34m,\u001b[0m \u001b[0mtrain\u001b[0m\u001b[0;34m\u001b[0m\u001b[0;34m\u001b[0m\u001b[0m\n",
            "\u001b[0;32m/content/LightGBM/python-package/lightgbm/basic.py\u001b[0m in \u001b[0;36m<module>\u001b[0;34m\u001b[0m\n\u001b[1;32m    277\u001b[0m     \u001b[0m_LIB\u001b[0m \u001b[0;34m=\u001b[0m \u001b[0mMock\u001b[0m\u001b[0;34m(\u001b[0m\u001b[0mctypes\u001b[0m\u001b[0;34m.\u001b[0m\u001b[0mCDLL\u001b[0m\u001b[0;34m)\u001b[0m  \u001b[0;31m# type: ignore\u001b[0m\u001b[0;34m\u001b[0m\u001b[0;34m\u001b[0m\u001b[0m\n\u001b[1;32m    278\u001b[0m \u001b[0;32melse\u001b[0m\u001b[0;34m:\u001b[0m\u001b[0;34m\u001b[0m\u001b[0;34m\u001b[0m\u001b[0m\n\u001b[0;32m--> 279\u001b[0;31m     \u001b[0m_LIB\u001b[0m \u001b[0;34m=\u001b[0m \u001b[0m_load_lib\u001b[0m\u001b[0;34m(\u001b[0m\u001b[0;34m)\u001b[0m\u001b[0;34m\u001b[0m\u001b[0;34m\u001b[0m\u001b[0m\n\u001b[0m\u001b[1;32m    280\u001b[0m \u001b[0;34m\u001b[0m\u001b[0m\n\u001b[1;32m    281\u001b[0m \u001b[0;34m\u001b[0m\u001b[0m\n",
            "\u001b[0;32m/content/LightGBM/python-package/lightgbm/basic.py\u001b[0m in \u001b[0;36m_load_lib\u001b[0;34m()\u001b[0m\n\u001b[1;32m    260\u001b[0m \u001b[0;32mdef\u001b[0m \u001b[0m_load_lib\u001b[0m\u001b[0;34m(\u001b[0m\u001b[0;34m)\u001b[0m \u001b[0;34m->\u001b[0m \u001b[0mctypes\u001b[0m\u001b[0;34m.\u001b[0m\u001b[0mCDLL\u001b[0m\u001b[0;34m:\u001b[0m\u001b[0;34m\u001b[0m\u001b[0;34m\u001b[0m\u001b[0m\n\u001b[1;32m    261\u001b[0m     \u001b[0;34m\"\"\"Load LightGBM library.\"\"\"\u001b[0m\u001b[0;34m\u001b[0m\u001b[0;34m\u001b[0m\u001b[0m\n\u001b[0;32m--> 262\u001b[0;31m     \u001b[0mlib_path\u001b[0m \u001b[0;34m=\u001b[0m \u001b[0mfind_lib_path\u001b[0m\u001b[0;34m(\u001b[0m\u001b[0;34m)\u001b[0m\u001b[0;34m\u001b[0m\u001b[0;34m\u001b[0m\u001b[0m\n\u001b[0m\u001b[1;32m    263\u001b[0m     \u001b[0mlib\u001b[0m \u001b[0;34m=\u001b[0m \u001b[0mctypes\u001b[0m\u001b[0;34m.\u001b[0m\u001b[0mcdll\u001b[0m\u001b[0;34m.\u001b[0m\u001b[0mLoadLibrary\u001b[0m\u001b[0;34m(\u001b[0m\u001b[0mlib_path\u001b[0m\u001b[0;34m[\u001b[0m\u001b[0;36m0\u001b[0m\u001b[0;34m]\u001b[0m\u001b[0;34m)\u001b[0m\u001b[0;34m\u001b[0m\u001b[0;34m\u001b[0m\u001b[0m\n\u001b[1;32m    264\u001b[0m     \u001b[0mlib\u001b[0m\u001b[0;34m.\u001b[0m\u001b[0mLGBM_GetLastError\u001b[0m\u001b[0;34m.\u001b[0m\u001b[0mrestype\u001b[0m \u001b[0;34m=\u001b[0m \u001b[0mctypes\u001b[0m\u001b[0;34m.\u001b[0m\u001b[0mc_char_p\u001b[0m\u001b[0;34m\u001b[0m\u001b[0;34m\u001b[0m\u001b[0m\n",
            "\u001b[0;32m/content/LightGBM/python-package/lightgbm/libpath.py\u001b[0m in \u001b[0;36mfind_lib_path\u001b[0;34m()\u001b[0m\n\u001b[1;32m     34\u001b[0m     \u001b[0;32mif\u001b[0m \u001b[0;32mnot\u001b[0m \u001b[0mlib_path\u001b[0m\u001b[0;34m:\u001b[0m\u001b[0;34m\u001b[0m\u001b[0;34m\u001b[0m\u001b[0m\n\u001b[1;32m     35\u001b[0m         \u001b[0mdll_path_joined\u001b[0m \u001b[0;34m=\u001b[0m \u001b[0;34m\"\\n\"\u001b[0m\u001b[0;34m.\u001b[0m\u001b[0mjoin\u001b[0m\u001b[0;34m(\u001b[0m\u001b[0mmap\u001b[0m\u001b[0;34m(\u001b[0m\u001b[0mstr\u001b[0m\u001b[0;34m,\u001b[0m \u001b[0mdll_path\u001b[0m\u001b[0;34m)\u001b[0m\u001b[0;34m)\u001b[0m\u001b[0;34m\u001b[0m\u001b[0;34m\u001b[0m\u001b[0m\n\u001b[0;32m---> 36\u001b[0;31m         \u001b[0;32mraise\u001b[0m \u001b[0mException\u001b[0m\u001b[0;34m(\u001b[0m\u001b[0;34mf\"Cannot find lightgbm library file in following paths:\\n{dll_path_joined}\"\u001b[0m\u001b[0;34m)\u001b[0m\u001b[0;34m\u001b[0m\u001b[0;34m\u001b[0m\u001b[0m\n\u001b[0m\u001b[1;32m     37\u001b[0m     \u001b[0;32mreturn\u001b[0m \u001b[0mlib_path\u001b[0m\u001b[0;34m\u001b[0m\u001b[0;34m\u001b[0m\u001b[0m\n",
            "\u001b[0;31mException\u001b[0m: Cannot find lightgbm library file in following paths:\n/content/LightGBM/python-package/lib_lightgbm.so\n/content/LightGBM/python-package/lightgbm/bin/lib_lightgbm.so\n/content/LightGBM/python-package/lightgbm/lib/lib_lightgbm.so"
          ]
        }
      ],
      "source": [
        "import lightgbm as lgb\n",
        "from sklearn.model_selection import train_test_split\n",
        "from sklearn.preprocessing import OneHotEncoder\n",
        "from sklearn.compose import ColumnTransformer\n",
        "from sklearn.ensemble import RandomForestRegressor\n",
        "from sklearn.metrics import mean_squared_error, accuracy_score\n",
        "\n",
        "import pandas as pd\n",
        "import numpy as np\n",
        "\n",
        "import warnings\n",
        "warnings.simplefilter(action='ignore', category=pd.errors.SettingWithCopyWarning)\n",
        "\n",
        "# 출발일로 부터 항공권 예매 시점(20240430)과의 날짜 차이 피처 추가 예정\n",
        "now = pd.to_datetime(\"20240430\", format='%Y%m%d')\n",
        "print(\"Timestamp:\", now)"
      ]
    },
    {
      "cell_type": "code",
      "source": [
        "try:\n",
        "    from google.colab import drive\n",
        "    drive.mount('/content/drive')\n",
        "    df = pd.read_csv('/content/drive/MyDrive/직항_머신러닝.csv')\n",
        "except:\n",
        "    df = pd.read_csv('./data/직항_머신러닝.csv')"
      ],
      "metadata": {
        "id": "mL1BmEWF-xeP"
      },
      "execution_count": null,
      "outputs": []
    },
    {
      "cell_type": "code",
      "source": [
        "df.describe(include='all')"
      ],
      "metadata": {
        "id": "ie4jdH-ACnsm"
      },
      "execution_count": null,
      "outputs": []
    },
    {
      "cell_type": "code",
      "source": [
        "df.info()"
      ],
      "metadata": {
        "id": "SIrweHZB9zx6"
      },
      "execution_count": null,
      "outputs": []
    },
    {
      "cell_type": "code",
      "source": [
        "# jt 비행시간 350은 03시간50분으로 230분으로 변환\n",
        "df['departure_jt'] = df['departure_jt'].apply(lambda x : str(x).zfill(4)).apply(lambda x : int(x[:2])*60+int(x[2:]))\n",
        "df['arrival_jt'] = df['arrival_jt'].apply(lambda x : str(x).zfill(4)).apply(lambda x : int(x[:2])*60+int(x[2:]))\n",
        "\n",
        "df[['departure_jt','arrival_jt']].head()"
      ],
      "metadata": {
        "id": "DUAW_1hc2Dhg"
      },
      "execution_count": null,
      "outputs": []
    },
    {
      "cell_type": "code",
      "source": [
        "# str to datetime 형식 변환\n",
        "df['departure_sdt'] = pd.to_datetime(df['departure_sdt'])\n",
        "df['arrival_sdt'] = pd.to_datetime(df['arrival_sdt'])\n",
        "\n",
        "# 시간 분 추출\n",
        "df['departure_hour'] = df['departure_sdt'].apply(lambda x: x.hour)\n",
        "df['departure_minute'] = df['departure_sdt'].apply(lambda x: x.minute)\n",
        "df['arrival_hour'] = df['arrival_sdt'].apply(lambda x: x.hour)\n",
        "df['arrival_minute'] = df['arrival_sdt'].apply(lambda x: x.minute)\n",
        "\n",
        "# 출발 도착 시각(하루 1440분 기준) sin cos 변환\n",
        "df['departure_time_sin'] = np.sin(2 * np.pi * (df['departure_hour']*60 + df['departure_minute']) / 1440)\n",
        "df['departure_time_cos'] = np.cos(2 * np.pi * (df['departure_hour']*60 + df['departure_minute']) / 1440)\n",
        "df['arrival_time_sin'] = np.sin(2 * np.pi * (df['arrival_hour']*60 + df['arrival_minute']) / 1440)\n",
        "df['arrival_time_cos'] = np.cos(2 * np.pi * (df['arrival_hour']*60 + df['arrival_minute']) / 1440)\n",
        "\n",
        "# 출발 도착 요일 sin cos 변환\n",
        "df['dep_week_sin'] = np.sin(2 * np.pi * df['dep_week'] / 7)\n",
        "df['dep_week_cos'] = np.cos(2 * np.pi * df['dep_week'] / 7)\n",
        "df['arr_week_sin'] = np.sin(2 * np.pi * df['arr_week'] / 7)\n",
        "df['arr_week_cos'] = np.cos(2 * np.pi * df['arr_week'] / 7)\n",
        "\n",
        "\n",
        "drop_col = ['departure_sdt','arrival_sdt',\n",
        "            'departure_hour','departure_minute','arrival_hour','arrival_minute',\n",
        "            'dep_week', 'arr_week']\n",
        "df.drop(columns=drop_col,inplace=True)"
      ],
      "metadata": {
        "id": "Hpn08olQ_iID"
      },
      "execution_count": null,
      "outputs": []
    },
    {
      "cell_type": "code",
      "source": [
        "# departure_jt, arrival_jt 출발 복귀 비행시간\n",
        "# 직항 항공권 기준 목적지 피처와 다중공산성 문제가 있다고 예상 drop 전후로 모델 학습 후 판단.\n",
        "# 경유 항공권 또는 비행기 도착시 현지시간으로 변환 할 때 사용\n",
        "\n",
        "# drop_jt = ['departure_jt', 'arrival_jt']\n",
        "# df.drop(columns=drop_jt,inplace=True)"
      ],
      "metadata": {
        "id": "tQdAmwucDpyl"
      },
      "execution_count": null,
      "outputs": []
    },
    {
      "cell_type": "code",
      "source": [
        "# agentcode\n",
        "# 대행사 별 주력 여행지가 있는지 시각화 필요\n",
        "# 대항사와 여행지의 상관관계가 크다면 다중공산성 의심\n",
        "# 대행사와 항공권 가격의 상관관계 확인 필요\n",
        "df['agentcode'].value_counts()"
      ],
      "metadata": {
        "id": "UcVx0JNEK47e"
      },
      "execution_count": null,
      "outputs": []
    },
    {
      "cell_type": "code",
      "source": [
        "# baggagetype\n",
        "# \"P\" 수화물 포함\n",
        "# [F, C] 수화물 미포함\n",
        "df['baggagetype'].value_counts()"
      ],
      "metadata": {
        "id": "RvBEUW3EfM1g"
      },
      "execution_count": null,
      "outputs": []
    },
    {
      "cell_type": "code",
      "source": [
        "# 'C', Nan 값을 F로 치환\n",
        "df['baggagetype'] = df['baggagetype'].apply(lambda x: 'F' if x == 'C' else x).fillna('F')\n",
        "df['baggagetype'].value_counts(normalize=True)"
      ],
      "metadata": {
        "id": "HuyKh0oFzf-S"
      },
      "execution_count": null,
      "outputs": []
    },
    {
      "cell_type": "code",
      "source": [
        "df.info()"
      ],
      "metadata": {
        "id": "4l8Q0hcgfR4O"
      },
      "execution_count": null,
      "outputs": []
    },
    {
      "cell_type": "code",
      "source": [
        "df"
      ],
      "metadata": {
        "id": "bj5zoUXjfSM4"
      },
      "execution_count": null,
      "outputs": []
    },
    {
      "cell_type": "code",
      "source": [
        "def optimize_dataframe(df):\n",
        "    \"\"\"\n",
        "    데이터프레임의 dtype을 최소화하여 메모리를 최적화하는 함수.\n",
        "\n",
        "    Parameters:\n",
        "    df (pd.DataFrame): 최적화할 데이터프레임\n",
        "\n",
        "    Returns:\n",
        "    pd.DataFrame: 최적화된 데이터프레임\n",
        "    \"\"\"\n",
        "    # 정수형 컬럼 최적화\n",
        "    int_columns = df.select_dtypes(include=['int64']).columns\n",
        "    for col in int_columns:\n",
        "        if df[col].min() >= np.iinfo(np.int8).min and df[col].max() <= np.iinfo(np.int8).max:\n",
        "            df[col] = df[col].astype(np.int8)\n",
        "        elif df[col].min() >= np.iinfo(np.int16).min and df[col].max() <= np.iinfo(np.int16).max:\n",
        "            df[col] = df[col].astype(np.int16)\n",
        "        elif df[col].min() >= np.iinfo(np.int32).min and df[col].max() <= np.iinfo(np.int32).max:\n",
        "            df[col] = df[col].astype(np.int32)\n",
        "        else:\n",
        "            df[col] = df[col].astype(np.int64)\n",
        "\n",
        "    # 부동소수점 컬럼 최적화\n",
        "    float_columns = df.select_dtypes(include=['float64']).columns\n",
        "    for col in float_columns:\n",
        "        df[col] = df[col].astype(np.float32)\n",
        "\n",
        "    # 객체형 컬럼 최적화\n",
        "    object_columns = df.select_dtypes(include=['object']).columns\n",
        "    for col in object_columns:\n",
        "        num_unique_values = len(df[col].unique())\n",
        "        num_total_values = len(df[col])\n",
        "        if num_unique_values / num_total_values < 0.5:\n",
        "            df[col] = df[col].astype('category')\n",
        "\n",
        "    return df\n",
        "df = optimize_dataframe(df)"
      ],
      "metadata": {
        "id": "6-lNaoXTfSQs"
      },
      "execution_count": null,
      "outputs": []
    },
    {
      "cell_type": "code",
      "source": [
        "# 메모리 최적화로 메모리 1/3으로 감소\n",
        "df.info()"
      ],
      "metadata": {
        "id": "9Mh45Vt55eJM"
      },
      "execution_count": null,
      "outputs": []
    },
    {
      "cell_type": "code",
      "source": [
        "# 사용하지 않을 컬럼 분리\n",
        "# tz = df['time_zone']\n",
        "# df = df.drop(columns=['time_zone'])\n",
        "\n",
        "# 피처와 타겟 변수 분리\n",
        "X = df.drop(columns=['total_fare'])\n",
        "y = df['total_fare']\n",
        "\n",
        "# 범주형 피처 식별\n",
        "categorical_features = ['agentcode', 'partition_0', 'partition_1','time_zone' ,'baggagetype']\n",
        "\n",
        "# 원-핫 인코딩 적용\n",
        "preprocessor = ColumnTransformer(\n",
        "    transformers=[\n",
        "        ('cat', OneHotEncoder(), categorical_features)\n",
        "    ],\n",
        "    remainder='passthrough'  # 나머지 컬럼은 그대로 유지\n",
        ")\n",
        "\n",
        "# 데이터 인코딩 및 변환\n",
        "X_encoded = preprocessor.fit_transform(X)\n",
        "\n",
        "# 학습 데이터, 검증 데이터, 테스트 데이터 분리\n",
        "X_train, X_temp, y_train, y_temp = train_test_split(X, y, test_size=0.4, random_state=42)\n",
        "X_val, X_test, y_val, y_test = train_test_split(X_temp, y_temp, test_size=0.5, random_state=42)\n",
        "\n",
        "# LightGBM 데이터셋 생성\n",
        "train_data = lgb.Dataset(X_train, label=y_train)\n",
        "val_data = lgb.Dataset(X_val, label=y_val, reference=train_data)\n"
      ],
      "metadata": {
        "id": "vIuYVriffST2"
      },
      "execution_count": null,
      "outputs": []
    },
    {
      "cell_type": "code",
      "source": [
        "params = {\n",
        "    'objective': 'regression',  # 회귀\n",
        "    'metric': 'rmse',  # 평가 지표 (Root Mean Squared Error)\n",
        "    'boosting_type': 'gbdt',\n",
        "    'learning_rate': 0.1,\n",
        "    'num_leaves': 31,\n",
        "    'max_depth': -1,\n",
        "    'feature_fraction': 0.9,\n",
        "    'bagging_fraction': 0.8,\n",
        "    'bagging_freq': 5,\n",
        "    'verbose': -1,\n",
        "    'lambda_l2': 1.0,  # L2 정규화 (과적합 방지)\n",
        "    'device': 'gpu'  # GPU 사용 설정\n",
        "}"
      ],
      "metadata": {
        "id": "MqbGOncZfSXN"
      },
      "execution_count": null,
      "outputs": []
    },
    {
      "cell_type": "code",
      "source": [
        "from tqdm import tqdm\n",
        "\n",
        "# 학습 진행도를 출력하기 위해 콜백 함수 사용\n",
        "tqdm_callback = lgb.callback.log_evaluation(period=50)\n",
        "early_stopping_callback = lgb.early_stopping(stopping_rounds=50)\n",
        "\n",
        "# LightGBM 모델 학습\n",
        "model = lgb.train(params, train_data, valid_sets=[val_data], num_boost_round=10000, callbacks=[tqdm_callback, early_stopping_callback])"
      ],
      "metadata": {
        "id": "5k2fx1QtA2aI"
      },
      "execution_count": null,
      "outputs": []
    },
    {
      "cell_type": "code",
      "source": [
        "# 테스트 데이터에 대한 예측\n",
        "y_pred = model.predict(X_test, num_iteration=model.best_iteration)\n",
        "\n",
        "# 모델 평가\n",
        "mse = mean_squared_error(y_test, y_pred)\n",
        "rmse = mse ** 0.5\n",
        "print(f'RMSE: {rmse:.4f}')"
      ],
      "metadata": {
        "id": "NZMnfPTXdgR5"
      },
      "execution_count": null,
      "outputs": []
    },
    {
      "cell_type": "code",
      "source": [
        "df.columns.to_list()"
      ],
      "metadata": {
        "id": "tqRXE3L_ulXp"
      },
      "execution_count": null,
      "outputs": []
    },
    {
      "cell_type": "code",
      "source": [
        "import matplotlib.pyplot as plt\n",
        "\n",
        "# 피처 중요도 추출\n",
        "importance = model.feature_importance(importance_type='split')\n",
        "feature_names = model.feature_name()\n",
        "\n",
        "importance_df = pd.DataFrame({\n",
        "    'feature': feature_names,\n",
        "    'importance': importance\n",
        "})\n",
        "\n",
        "# 중요도 순으로 정렬\n",
        "importance_df = importance_df.sort_values(by='importance', ascending=False)\n",
        "\n",
        "# 피처 중요도 시각화\n",
        "plt.figure(figsize=(10, 6))\n",
        "plt.barh(importance_df['feature'], importance_df['importance'])\n",
        "plt.xlabel('Importance')\n",
        "plt.ylabel('Feature')\n",
        "plt.title('Feature Importance')\n",
        "plt.gca().invert_yaxis()\n",
        "plt.show()"
      ],
      "metadata": {
        "id": "Ub8SDTJ1f51b"
      },
      "execution_count": null,
      "outputs": []
    },
    {
      "cell_type": "code",
      "source": [
        "!pip install shap -q\n",
        "import shap\n",
        "# 데이터셋 샘플링\n",
        "sample_size = 10000  # 예시로 1000개 샘플 사용\n",
        "X_sample = X_test.sample(sample_size, random_state=42)\n",
        "\n",
        "# SHAP 값 계산\n",
        "shap_values_sample = explainer.shap_values(X_sample)\n",
        "\n",
        "# summary_plot으로 샘플링된 데이터의 피처 중요도 및 영향 시각화\n",
        "shap.summary_plot(shap_values_sample, X_sample, plot_type=\"bar\")\n",
        "shap.summary_plot(shap_values_sample, X_sample)\n"
      ],
      "metadata": {
        "id": "K2J8Uvr-f585"
      },
      "execution_count": null,
      "outputs": []
    },
    {
      "cell_type": "code",
      "source": [],
      "metadata": {
        "id": "fZU2MiVWf6Ac"
      },
      "execution_count": null,
      "outputs": []
    },
    {
      "cell_type": "code",
      "source": [],
      "metadata": {
        "id": "EmORRNflf6D7"
      },
      "execution_count": null,
      "outputs": []
    },
    {
      "cell_type": "code",
      "source": [],
      "metadata": {
        "id": "lKzxXkupf6H7"
      },
      "execution_count": null,
      "outputs": []
    },
    {
      "cell_type": "code",
      "source": [],
      "metadata": {
        "id": "464cR2Grf6Ls"
      },
      "execution_count": null,
      "outputs": []
    },
    {
      "cell_type": "code",
      "source": [],
      "metadata": {
        "id": "qF92WaeSf6Pq"
      },
      "execution_count": null,
      "outputs": []
    },
    {
      "cell_type": "code",
      "source": [],
      "metadata": {
        "id": "s3GglXA1f6Tg"
      },
      "execution_count": null,
      "outputs": []
    },
    {
      "cell_type": "code",
      "source": [],
      "metadata": {
        "id": "7mO2Wlnsf6Xj"
      },
      "execution_count": null,
      "outputs": []
    },
    {
      "cell_type": "code",
      "source": [],
      "metadata": {
        "id": "Rl7WSk1gf6bi"
      },
      "execution_count": null,
      "outputs": []
    },
    {
      "cell_type": "code",
      "source": [],
      "metadata": {
        "id": "OR2qbDsGf6fp"
      },
      "execution_count": null,
      "outputs": []
    },
    {
      "cell_type": "code",
      "source": [],
      "metadata": {
        "id": "KH3vEcCBf6jk"
      },
      "execution_count": null,
      "outputs": []
    },
    {
      "cell_type": "code",
      "source": [],
      "metadata": {
        "id": "q5uMsik1f6oD"
      },
      "execution_count": null,
      "outputs": []
    },
    {
      "cell_type": "code",
      "source": [],
      "metadata": {
        "id": "U97U5yqCf6rv"
      },
      "execution_count": null,
      "outputs": []
    },
    {
      "cell_type": "code",
      "source": [],
      "metadata": {
        "id": "TbKjh4def6vm"
      },
      "execution_count": null,
      "outputs": []
    },
    {
      "cell_type": "code",
      "source": [],
      "metadata": {
        "id": "kEfzNg2cf6zm"
      },
      "execution_count": null,
      "outputs": []
    },
    {
      "cell_type": "code",
      "source": [],
      "metadata": {
        "id": "Vt_9dq4Pf634"
      },
      "execution_count": null,
      "outputs": []
    },
    {
      "cell_type": "code",
      "source": [],
      "metadata": {
        "id": "Lu6GoebGf68U"
      },
      "execution_count": null,
      "outputs": []
    },
    {
      "cell_type": "code",
      "source": [],
      "metadata": {
        "id": "Jla6GXAmf7AZ"
      },
      "execution_count": null,
      "outputs": []
    },
    {
      "cell_type": "code",
      "source": [],
      "metadata": {
        "id": "LC-LG9XLf7D-"
      },
      "execution_count": null,
      "outputs": []
    }
  ],
  "metadata": {
    "kernelspec": {
      "display_name": "Python 3",
      "name": "python3"
    },
    "language_info": {
      "codemirror_mode": {
        "name": "ipython",
        "version": 3
      },
      "file_extension": ".py",
      "mimetype": "text/x-python",
      "name": "python",
      "nbconvert_exporter": "python",
      "pygments_lexer": "ipython3",
      "version": "3.9.13"
    },
    "colab": {
      "provenance": [],
      "gpuType": "T4"
    },
    "accelerator": "GPU"
  },
  "nbformat": 4,
  "nbformat_minor": 0
}