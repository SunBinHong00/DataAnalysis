{
  "cells": [
    {
      "cell_type": "code",
      "execution_count": 2,
      "metadata": {
        "id": "JvQPWafGD7F-"
      },
      "outputs": [],
      "source": [
        "# # 날짜 간 차이 계산\n",
        "# df['next_date'] = df['date'] + pd.Timedelta(days=1)\n",
        "# df['date_diff'] = df['next_date'] - df['date']\n",
        "\n",
        "# print(df)\n",
        "\n",
        "# # 시간대 설정 및 변환\n",
        "# df['date_utc'] = df['date'].dt.tz_localize('UTC')\n",
        "# df['date_kst'] = df['date_utc'].dt.tz_convert('Asia/Seoul')\n",
        "\n",
        "\n",
        "# # 범주형 피처 인코딩\n",
        "# df = pd.get_dummies(df, columns=['destination'], drop_first=True)\n",
        "\n",
        "# # 피처와 타겟 분리\n",
        "# X = df.drop(columns=['price'])\n",
        "# y = df['price']\n",
        "\n",
        "# # 비행시간 피처 포함 모델\n",
        "# X_train, X_test, y_train, y_test = train_test_split(X, y, test_size=0.2, random_state=42)\n",
        "# model = RandomForestRegressor(n_estimators=100, random_state=42)\n",
        "# model.fit(X_train, y_train)\n",
        "# y_pred = model.predict(X_test)\n",
        "# print(\"MSE with flight_duration:\", mean_squared_error(y_test, y_pred))\n",
        "\n",
        "# # 비행시간 피처 제거 모델\n",
        "# X = X.drop(columns=['flight_duration'])\n",
        "# X_train, X_test, y_train, y_test = train_test_split(X, y, test_size=0.2, random_state=42)\n",
        "# model = RandomForestRegressor(n_estimators=100, random_state=42)\n",
        "# model.fit(X_train, y_train)\n",
        "# y_pred = model.predict(X_test)\n",
        "# print(\"MSE without flight_duration:\", mean_squared_error(y_test, y_pred))\n"
      ]
    },
    {
      "cell_type": "code",
      "execution_count": 3,
      "metadata": {},
      "outputs": [
        {
          "data": {
            "text/plain": [
              "' c++ 설치 필요\\n\\npip install     --no-binary lightgbm     --config-settings=cmake.define.USE_GPU=ON     lightgbm\\n'"
            ]
          },
          "execution_count": 3,
          "metadata": {},
          "output_type": "execute_result"
        }
      ],
      "source": [
        "\"\"\" c++ 설치 필요\n",
        "\n",
        "pip install \\\n",
        "    --no-binary lightgbm \\\n",
        "    --config-settings=cmake.define.USE_GPU=ON \\\n",
        "    lightgbm\n",
        "\"\"\""
      ]
    },
    {
      "cell_type": "code",
      "execution_count": 45,
      "metadata": {
        "colab": {
          "base_uri": "https://localhost:8080/",
          "height": 405
        },
        "id": "QIVyTAc79wki",
        "outputId": "113e0072-5fc1-40a2-eb85-87072dc0b31f"
      },
      "outputs": [
        {
          "name": "stdout",
          "output_type": "stream",
          "text": [
            "Timestamp: 2024-04-30 00:00:00\n"
          ]
        }
      ],
      "source": [
        "import lightgbm as lgb\n",
        "from sklearn.model_selection import train_test_split\n",
        "from sklearn.preprocessing import OneHotEncoder\n",
        "from sklearn.compose import ColumnTransformer\n",
        "from sklearn.ensemble import RandomForestRegressor\n",
        "from sklearn.metrics import mean_squared_error, accuracy_score\n",
        "from sklearn.preprocessing import LabelEncoder\n",
        "\n",
        "import pandas as pd\n",
        "import numpy as np\n",
        "\n",
        "from tqdm import tqdm\n",
        "\n",
        "import warnings\n",
        "warnings.simplefilter(action='ignore', category=pd.errors.SettingWithCopyWarning)\n",
        "\n",
        "# 출발일로 부터 항공권 예매 시점(20240430)과의 날짜 차이 피처 추가 예정\n",
        "now = pd.to_datetime(\"20240430\", format='%Y%m%d')\n",
        "print(\"Timestamp:\", now)"
      ]
    },
    {
      "cell_type": "code",
      "execution_count": 46,
      "metadata": {
        "id": "mL1BmEWF-xeP"
      },
      "outputs": [],
      "source": [
        "try:\n",
        "    from google.colab import drive\n",
        "    drive.mount('/content/drive')\n",
        "    df = pd.read_csv('/content/drive/MyDrive/직항_머신러닝.csv')\n",
        "except:\n",
        "    df = pd.read_csv('./data/직항_머신러닝.csv')"
      ]
    },
    {
      "cell_type": "code",
      "execution_count": 47,
      "metadata": {
        "id": "ie4jdH-ACnsm"
      },
      "outputs": [
        {
          "data": {
            "text/html": [
              "<div>\n",
              "<style scoped>\n",
              "    .dataframe tbody tr th:only-of-type {\n",
              "        vertical-align: middle;\n",
              "    }\n",
              "\n",
              "    .dataframe tbody tr th {\n",
              "        vertical-align: top;\n",
              "    }\n",
              "\n",
              "    .dataframe thead th {\n",
              "        text-align: right;\n",
              "    }\n",
              "</style>\n",
              "<table border=\"1\" class=\"dataframe\">\n",
              "  <thead>\n",
              "    <tr style=\"text-align: right;\">\n",
              "      <th></th>\n",
              "      <th>nights</th>\n",
              "      <th>departure_sdt</th>\n",
              "      <th>departure_jt</th>\n",
              "      <th>dep_week</th>\n",
              "      <th>arrival_sdt</th>\n",
              "      <th>arrival_jt</th>\n",
              "      <th>arr_week</th>\n",
              "      <th>agentcode</th>\n",
              "      <th>partition_0</th>\n",
              "      <th>partition_1</th>\n",
              "      <th>time_zone</th>\n",
              "      <th>baggagetype</th>\n",
              "      <th>total_fare</th>\n",
              "    </tr>\n",
              "  </thead>\n",
              "  <tbody>\n",
              "    <tr>\n",
              "      <th>count</th>\n",
              "      <td>714792.000000</td>\n",
              "      <td>714792</td>\n",
              "      <td>714792.000000</td>\n",
              "      <td>714792.000000</td>\n",
              "      <td>714792</td>\n",
              "      <td>714792.000000</td>\n",
              "      <td>714792.000000</td>\n",
              "      <td>714792</td>\n",
              "      <td>714792</td>\n",
              "      <td>714792</td>\n",
              "      <td>714792</td>\n",
              "      <td>658137</td>\n",
              "      <td>7.147920e+05</td>\n",
              "    </tr>\n",
              "    <tr>\n",
              "      <th>unique</th>\n",
              "      <td>NaN</td>\n",
              "      <td>5558</td>\n",
              "      <td>NaN</td>\n",
              "      <td>NaN</td>\n",
              "      <td>6590</td>\n",
              "      <td>NaN</td>\n",
              "      <td>NaN</td>\n",
              "      <td>26</td>\n",
              "      <td>9</td>\n",
              "      <td>77</td>\n",
              "      <td>47</td>\n",
              "      <td>3</td>\n",
              "      <td>NaN</td>\n",
              "    </tr>\n",
              "    <tr>\n",
              "      <th>top</th>\n",
              "      <td>NaN</td>\n",
              "      <td>2024-05-03 08:45:00.000</td>\n",
              "      <td>NaN</td>\n",
              "      <td>NaN</td>\n",
              "      <td>2024-05-16 10:35:00.000</td>\n",
              "      <td>NaN</td>\n",
              "      <td>NaN</td>\n",
              "      <td>WHY002</td>\n",
              "      <td>SouthEastAsia</td>\n",
              "      <td>KIX</td>\n",
              "      <td>Asia/Tokyo</td>\n",
              "      <td>F</td>\n",
              "      <td>NaN</td>\n",
              "    </tr>\n",
              "    <tr>\n",
              "      <th>freq</th>\n",
              "      <td>NaN</td>\n",
              "      <td>646</td>\n",
              "      <td>NaN</td>\n",
              "      <td>NaN</td>\n",
              "      <td>579</td>\n",
              "      <td>NaN</td>\n",
              "      <td>NaN</td>\n",
              "      <td>191022</td>\n",
              "      <td>282421</td>\n",
              "      <td>88759</td>\n",
              "      <td>260126</td>\n",
              "      <td>612483</td>\n",
              "      <td>NaN</td>\n",
              "    </tr>\n",
              "    <tr>\n",
              "      <th>mean</th>\n",
              "      <td>3.517860</td>\n",
              "      <td>NaN</td>\n",
              "      <td>351.139806</td>\n",
              "      <td>3.956662</td>\n",
              "      <td>NaN</td>\n",
              "      <td>350.508071</td>\n",
              "      <td>4.024907</td>\n",
              "      <td>NaN</td>\n",
              "      <td>NaN</td>\n",
              "      <td>NaN</td>\n",
              "      <td>NaN</td>\n",
              "      <td>NaN</td>\n",
              "      <td>6.580351e+05</td>\n",
              "    </tr>\n",
              "    <tr>\n",
              "      <th>std</th>\n",
              "      <td>1.692131</td>\n",
              "      <td>NaN</td>\n",
              "      <td>265.785353</td>\n",
              "      <td>1.934085</td>\n",
              "      <td>NaN</td>\n",
              "      <td>272.773675</td>\n",
              "      <td>2.004756</td>\n",
              "      <td>NaN</td>\n",
              "      <td>NaN</td>\n",
              "      <td>NaN</td>\n",
              "      <td>NaN</td>\n",
              "      <td>NaN</td>\n",
              "      <td>6.435439e+05</td>\n",
              "    </tr>\n",
              "    <tr>\n",
              "      <th>min</th>\n",
              "      <td>1.000000</td>\n",
              "      <td>NaN</td>\n",
              "      <td>105.000000</td>\n",
              "      <td>1.000000</td>\n",
              "      <td>NaN</td>\n",
              "      <td>110.000000</td>\n",
              "      <td>1.000000</td>\n",
              "      <td>NaN</td>\n",
              "      <td>NaN</td>\n",
              "      <td>NaN</td>\n",
              "      <td>NaN</td>\n",
              "      <td>NaN</td>\n",
              "      <td>1.126000e+05</td>\n",
              "    </tr>\n",
              "    <tr>\n",
              "      <th>25%</th>\n",
              "      <td>2.000000</td>\n",
              "      <td>NaN</td>\n",
              "      <td>150.000000</td>\n",
              "      <td>2.000000</td>\n",
              "      <td>NaN</td>\n",
              "      <td>150.000000</td>\n",
              "      <td>2.000000</td>\n",
              "      <td>NaN</td>\n",
              "      <td>NaN</td>\n",
              "      <td>NaN</td>\n",
              "      <td>NaN</td>\n",
              "      <td>NaN</td>\n",
              "      <td>3.319000e+05</td>\n",
              "    </tr>\n",
              "    <tr>\n",
              "      <th>50%</th>\n",
              "      <td>4.000000</td>\n",
              "      <td>NaN</td>\n",
              "      <td>235.000000</td>\n",
              "      <td>4.000000</td>\n",
              "      <td>NaN</td>\n",
              "      <td>240.000000</td>\n",
              "      <td>4.000000</td>\n",
              "      <td>NaN</td>\n",
              "      <td>NaN</td>\n",
              "      <td>NaN</td>\n",
              "      <td>NaN</td>\n",
              "      <td>NaN</td>\n",
              "      <td>4.869000e+05</td>\n",
              "    </tr>\n",
              "    <tr>\n",
              "      <th>75%</th>\n",
              "      <td>5.000000</td>\n",
              "      <td>NaN</td>\n",
              "      <td>445.000000</td>\n",
              "      <td>6.000000</td>\n",
              "      <td>NaN</td>\n",
              "      <td>440.000000</td>\n",
              "      <td>6.000000</td>\n",
              "      <td>NaN</td>\n",
              "      <td>NaN</td>\n",
              "      <td>NaN</td>\n",
              "      <td>NaN</td>\n",
              "      <td>NaN</td>\n",
              "      <td>6.894000e+05</td>\n",
              "    </tr>\n",
              "    <tr>\n",
              "      <th>max</th>\n",
              "      <td>6.000000</td>\n",
              "      <td>NaN</td>\n",
              "      <td>1505.000000</td>\n",
              "      <td>7.000000</td>\n",
              "      <td>NaN</td>\n",
              "      <td>1540.000000</td>\n",
              "      <td>7.000000</td>\n",
              "      <td>NaN</td>\n",
              "      <td>NaN</td>\n",
              "      <td>NaN</td>\n",
              "      <td>NaN</td>\n",
              "      <td>NaN</td>\n",
              "      <td>1.083420e+07</td>\n",
              "    </tr>\n",
              "  </tbody>\n",
              "</table>\n",
              "</div>"
            ],
            "text/plain": [
              "               nights            departure_sdt   departure_jt       dep_week  \\\n",
              "count   714792.000000                   714792  714792.000000  714792.000000   \n",
              "unique            NaN                     5558            NaN            NaN   \n",
              "top               NaN  2024-05-03 08:45:00.000            NaN            NaN   \n",
              "freq              NaN                      646            NaN            NaN   \n",
              "mean         3.517860                      NaN     351.139806       3.956662   \n",
              "std          1.692131                      NaN     265.785353       1.934085   \n",
              "min          1.000000                      NaN     105.000000       1.000000   \n",
              "25%          2.000000                      NaN     150.000000       2.000000   \n",
              "50%          4.000000                      NaN     235.000000       4.000000   \n",
              "75%          5.000000                      NaN     445.000000       6.000000   \n",
              "max          6.000000                      NaN    1505.000000       7.000000   \n",
              "\n",
              "                    arrival_sdt     arrival_jt       arr_week agentcode  \\\n",
              "count                    714792  714792.000000  714792.000000    714792   \n",
              "unique                     6590            NaN            NaN        26   \n",
              "top     2024-05-16 10:35:00.000            NaN            NaN    WHY002   \n",
              "freq                        579            NaN            NaN    191022   \n",
              "mean                        NaN     350.508071       4.024907       NaN   \n",
              "std                         NaN     272.773675       2.004756       NaN   \n",
              "min                         NaN     110.000000       1.000000       NaN   \n",
              "25%                         NaN     150.000000       2.000000       NaN   \n",
              "50%                         NaN     240.000000       4.000000       NaN   \n",
              "75%                         NaN     440.000000       6.000000       NaN   \n",
              "max                         NaN    1540.000000       7.000000       NaN   \n",
              "\n",
              "          partition_0 partition_1   time_zone baggagetype    total_fare  \n",
              "count          714792      714792      714792      658137  7.147920e+05  \n",
              "unique              9          77          47           3           NaN  \n",
              "top     SouthEastAsia         KIX  Asia/Tokyo           F           NaN  \n",
              "freq           282421       88759      260126      612483           NaN  \n",
              "mean              NaN         NaN         NaN         NaN  6.580351e+05  \n",
              "std               NaN         NaN         NaN         NaN  6.435439e+05  \n",
              "min               NaN         NaN         NaN         NaN  1.126000e+05  \n",
              "25%               NaN         NaN         NaN         NaN  3.319000e+05  \n",
              "50%               NaN         NaN         NaN         NaN  4.869000e+05  \n",
              "75%               NaN         NaN         NaN         NaN  6.894000e+05  \n",
              "max               NaN         NaN         NaN         NaN  1.083420e+07  "
            ]
          },
          "execution_count": 47,
          "metadata": {},
          "output_type": "execute_result"
        }
      ],
      "source": [
        "df.describe(include='all')"
      ]
    },
    {
      "cell_type": "code",
      "execution_count": 48,
      "metadata": {
        "id": "SIrweHZB9zx6"
      },
      "outputs": [
        {
          "name": "stdout",
          "output_type": "stream",
          "text": [
            "<class 'pandas.core.frame.DataFrame'>\n",
            "RangeIndex: 714792 entries, 0 to 714791\n",
            "Data columns (total 13 columns):\n",
            " #   Column         Non-Null Count   Dtype \n",
            "---  ------         --------------   ----- \n",
            " 0   nights         714792 non-null  int64 \n",
            " 1   departure_sdt  714792 non-null  object\n",
            " 2   departure_jt   714792 non-null  int64 \n",
            " 3   dep_week       714792 non-null  int64 \n",
            " 4   arrival_sdt    714792 non-null  object\n",
            " 5   arrival_jt     714792 non-null  int64 \n",
            " 6   arr_week       714792 non-null  int64 \n",
            " 7   agentcode      714792 non-null  object\n",
            " 8   partition_0    714792 non-null  object\n",
            " 9   partition_1    714792 non-null  object\n",
            " 10  time_zone      714792 non-null  object\n",
            " 11  baggagetype    658137 non-null  object\n",
            " 12  total_fare     714792 non-null  int64 \n",
            "dtypes: int64(6), object(7)\n",
            "memory usage: 70.9+ MB\n"
          ]
        }
      ],
      "source": [
        "df.info()"
      ]
    },
    {
      "cell_type": "code",
      "execution_count": 49,
      "metadata": {
        "id": "DUAW_1hc2Dhg"
      },
      "outputs": [
        {
          "data": {
            "text/html": [
              "<div>\n",
              "<style scoped>\n",
              "    .dataframe tbody tr th:only-of-type {\n",
              "        vertical-align: middle;\n",
              "    }\n",
              "\n",
              "    .dataframe tbody tr th {\n",
              "        vertical-align: top;\n",
              "    }\n",
              "\n",
              "    .dataframe thead th {\n",
              "        text-align: right;\n",
              "    }\n",
              "</style>\n",
              "<table border=\"1\" class=\"dataframe\">\n",
              "  <thead>\n",
              "    <tr style=\"text-align: right;\">\n",
              "      <th></th>\n",
              "      <th>departure_jt</th>\n",
              "      <th>arrival_jt</th>\n",
              "    </tr>\n",
              "  </thead>\n",
              "  <tbody>\n",
              "    <tr>\n",
              "      <th>0</th>\n",
              "      <td>230</td>\n",
              "      <td>230</td>\n",
              "    </tr>\n",
              "    <tr>\n",
              "      <th>1</th>\n",
              "      <td>225</td>\n",
              "      <td>215</td>\n",
              "    </tr>\n",
              "    <tr>\n",
              "      <th>2</th>\n",
              "      <td>225</td>\n",
              "      <td>220</td>\n",
              "    </tr>\n",
              "    <tr>\n",
              "      <th>3</th>\n",
              "      <td>225</td>\n",
              "      <td>215</td>\n",
              "    </tr>\n",
              "    <tr>\n",
              "      <th>4</th>\n",
              "      <td>225</td>\n",
              "      <td>220</td>\n",
              "    </tr>\n",
              "  </tbody>\n",
              "</table>\n",
              "</div>"
            ],
            "text/plain": [
              "   departure_jt  arrival_jt\n",
              "0           230         230\n",
              "1           225         215\n",
              "2           225         220\n",
              "3           225         215\n",
              "4           225         220"
            ]
          },
          "execution_count": 49,
          "metadata": {},
          "output_type": "execute_result"
        }
      ],
      "source": [
        "# jt 비행시간 350은 03시간50분으로 230분으로 변환\n",
        "df['departure_jt'] = df['departure_jt'].apply(lambda x : str(x).zfill(4)).apply(lambda x : int(x[:2])*60+int(x[2:]))\n",
        "df['arrival_jt'] = df['arrival_jt'].apply(lambda x : str(x).zfill(4)).apply(lambda x : int(x[:2])*60+int(x[2:]))\n",
        "\n",
        "df[['departure_jt','arrival_jt']].head()"
      ]
    },
    {
      "cell_type": "code",
      "execution_count": 50,
      "metadata": {
        "id": "Hpn08olQ_iID"
      },
      "outputs": [],
      "source": [
        "# str to datetime 형식 변환\n",
        "df['departure_sdt'] = pd.to_datetime(df['departure_sdt'])\n",
        "df['arrival_sdt'] = pd.to_datetime(df['arrival_sdt'])\n",
        "\n",
        "# 시간 분 추출\n",
        "df['departure_hour'] = df['departure_sdt'].apply(lambda x: x.hour)\n",
        "df['departure_minute'] = df['departure_sdt'].apply(lambda x: x.minute)\n",
        "df['arrival_hour'] = df['arrival_sdt'].apply(lambda x: x.hour)\n",
        "df['arrival_minute'] = df['arrival_sdt'].apply(lambda x: x.minute)\n",
        "\n",
        "# 출발 도착 시각(하루 1440분 기준) sin cos 변환\n",
        "df['departure_time_sin'] = np.sin(2 * np.pi * (df['departure_hour']*60 + df['departure_minute']) / 1440)\n",
        "df['departure_time_cos'] = np.cos(2 * np.pi * (df['departure_hour']*60 + df['departure_minute']) / 1440)\n",
        "df['arrival_time_sin'] = np.sin(2 * np.pi * (df['arrival_hour']*60 + df['arrival_minute']) / 1440)\n",
        "df['arrival_time_cos'] = np.cos(2 * np.pi * (df['arrival_hour']*60 + df['arrival_minute']) / 1440)\n",
        "\n",
        "# 출발 도착 요일 sin cos 변환\n",
        "df['dep_week_sin'] = np.sin(2 * np.pi * df['dep_week'] / 7)\n",
        "df['dep_week_cos'] = np.cos(2 * np.pi * df['dep_week'] / 7)\n",
        "df['arr_week_sin'] = np.sin(2 * np.pi * df['arr_week'] / 7)\n",
        "df['arr_week_cos'] = np.cos(2 * np.pi * df['arr_week'] / 7)\n",
        "\n",
        "\n",
        "drop_col = ['departure_sdt','arrival_sdt',\n",
        "            'departure_hour','departure_minute','arrival_hour','arrival_minute',\n",
        "            'dep_week', 'arr_week']\n",
        "df.drop(columns=drop_col,inplace=True)"
      ]
    },
    {
      "cell_type": "code",
      "execution_count": 51,
      "metadata": {
        "id": "tQdAmwucDpyl"
      },
      "outputs": [],
      "source": [
        "# departure_jt, arrival_jt 출발 복귀 비행시간\n",
        "# 직항 항공권 기준 목적지 피처와 다중공산성 문제가 있다고 예상 drop 전후로 모델 학습 후 판단.\n",
        "# 경유 항공권 또는 비행기 도착시 현지시간으로 변환 할 때 사용\n",
        "\n",
        "# drop_jt = ['departure_jt', 'arrival_jt']\n",
        "# df.drop(columns=drop_jt,inplace=True)"
      ]
    },
    {
      "cell_type": "code",
      "execution_count": 52,
      "metadata": {
        "id": "UcVx0JNEK47e"
      },
      "outputs": [
        {
          "data": {
            "text/plain": [
              "agentcode\n",
              "WHY002    191022\n",
              "INT005    132661\n",
              "TOV025    126221\n",
              "HDP010     36763\n",
              "CTR013     33286\n",
              "WEB001     29843\n",
              "HAT004     21279\n",
              "LTT017     20460\n",
              "ONT003     19443\n",
              "EDR215     16647\n",
              "NIT015     15247\n",
              "MOT007     14674\n",
              "VGT027     11854\n",
              "KRT006      9921\n",
              "SKP206      8107\n",
              "MRT023      6115\n",
              "HDT028      5456\n",
              "JTB016      5019\n",
              "GTG204      4243\n",
              "ATK201      3226\n",
              "ACA107      1431\n",
              "BGT202      1068\n",
              "YEL009       659\n",
              "ACI117       140\n",
              "ACX111         6\n",
              "ALH103         1\n",
              "Name: count, dtype: int64"
            ]
          },
          "execution_count": 52,
          "metadata": {},
          "output_type": "execute_result"
        }
      ],
      "source": [
        "# agentcode\n",
        "# 대행사 별 주력 여행지가 있는지 시각화 필요\n",
        "# 대항사와 여행지의 상관관계가 크다면 다중공산성 의심\n",
        "# 대행사와 항공권 가격의 상관관계 확인 필요\n",
        "df['agentcode'].value_counts()"
      ]
    },
    {
      "cell_type": "code",
      "execution_count": 53,
      "metadata": {
        "id": "RvBEUW3EfM1g"
      },
      "outputs": [
        {
          "data": {
            "text/plain": [
              "baggagetype\n",
              "F    612483\n",
              "P     42185\n",
              "C      3469\n",
              "Name: count, dtype: int64"
            ]
          },
          "execution_count": 53,
          "metadata": {},
          "output_type": "execute_result"
        }
      ],
      "source": [
        "# baggagetype\n",
        "# \"P\" 수화물 포함\n",
        "# [F, C] 수화물 미포함\n",
        "df['baggagetype'].value_counts()"
      ]
    },
    {
      "cell_type": "code",
      "execution_count": 54,
      "metadata": {
        "id": "HuyKh0oFzf-S"
      },
      "outputs": [
        {
          "data": {
            "text/plain": [
              "baggagetype\n",
              "F    0.940983\n",
              "P    0.059017\n",
              "Name: proportion, dtype: float64"
            ]
          },
          "execution_count": 54,
          "metadata": {},
          "output_type": "execute_result"
        }
      ],
      "source": [
        "# 'C', Nan 값을 F로 치환\n",
        "df['baggagetype'] = df['baggagetype'].apply(lambda x: 'F' if x == 'C' else x).fillna('F')\n",
        "df['baggagetype'].value_counts(normalize=True)"
      ]
    },
    {
      "cell_type": "code",
      "execution_count": 55,
      "metadata": {
        "id": "4l8Q0hcgfR4O"
      },
      "outputs": [
        {
          "name": "stdout",
          "output_type": "stream",
          "text": [
            "<class 'pandas.core.frame.DataFrame'>\n",
            "RangeIndex: 714792 entries, 0 to 714791\n",
            "Data columns (total 17 columns):\n",
            " #   Column              Non-Null Count   Dtype  \n",
            "---  ------              --------------   -----  \n",
            " 0   nights              714792 non-null  int64  \n",
            " 1   departure_jt        714792 non-null  int64  \n",
            " 2   arrival_jt          714792 non-null  int64  \n",
            " 3   agentcode           714792 non-null  object \n",
            " 4   partition_0         714792 non-null  object \n",
            " 5   partition_1         714792 non-null  object \n",
            " 6   time_zone           714792 non-null  object \n",
            " 7   baggagetype         714792 non-null  object \n",
            " 8   total_fare          714792 non-null  int64  \n",
            " 9   departure_time_sin  714792 non-null  float64\n",
            " 10  departure_time_cos  714792 non-null  float64\n",
            " 11  arrival_time_sin    714792 non-null  float64\n",
            " 12  arrival_time_cos    714792 non-null  float64\n",
            " 13  dep_week_sin        714792 non-null  float64\n",
            " 14  dep_week_cos        714792 non-null  float64\n",
            " 15  arr_week_sin        714792 non-null  float64\n",
            " 16  arr_week_cos        714792 non-null  float64\n",
            "dtypes: float64(8), int64(4), object(5)\n",
            "memory usage: 92.7+ MB\n"
          ]
        }
      ],
      "source": [
        "df.info()"
      ]
    },
    {
      "cell_type": "code",
      "execution_count": 56,
      "metadata": {
        "id": "bj5zoUXjfSM4"
      },
      "outputs": [
        {
          "data": {
            "text/html": [
              "<div>\n",
              "<style scoped>\n",
              "    .dataframe tbody tr th:only-of-type {\n",
              "        vertical-align: middle;\n",
              "    }\n",
              "\n",
              "    .dataframe tbody tr th {\n",
              "        vertical-align: top;\n",
              "    }\n",
              "\n",
              "    .dataframe thead th {\n",
              "        text-align: right;\n",
              "    }\n",
              "</style>\n",
              "<table border=\"1\" class=\"dataframe\">\n",
              "  <thead>\n",
              "    <tr style=\"text-align: right;\">\n",
              "      <th></th>\n",
              "      <th>nights</th>\n",
              "      <th>departure_jt</th>\n",
              "      <th>arrival_jt</th>\n",
              "      <th>agentcode</th>\n",
              "      <th>partition_0</th>\n",
              "      <th>partition_1</th>\n",
              "      <th>time_zone</th>\n",
              "      <th>baggagetype</th>\n",
              "      <th>total_fare</th>\n",
              "      <th>departure_time_sin</th>\n",
              "      <th>departure_time_cos</th>\n",
              "      <th>arrival_time_sin</th>\n",
              "      <th>arrival_time_cos</th>\n",
              "      <th>dep_week_sin</th>\n",
              "      <th>dep_week_cos</th>\n",
              "      <th>arr_week_sin</th>\n",
              "      <th>arr_week_cos</th>\n",
              "    </tr>\n",
              "  </thead>\n",
              "  <tbody>\n",
              "    <tr>\n",
              "      <th>0</th>\n",
              "      <td>2</td>\n",
              "      <td>230</td>\n",
              "      <td>230</td>\n",
              "      <td>WHY002</td>\n",
              "      <td>SouthEastAsia</td>\n",
              "      <td>HKG</td>\n",
              "      <td>Asia/Hong_Kong</td>\n",
              "      <td>F</td>\n",
              "      <td>249700</td>\n",
              "      <td>-0.659346</td>\n",
              "      <td>-0.751840</td>\n",
              "      <td>0.722364</td>\n",
              "      <td>-0.691513</td>\n",
              "      <td>-0.781831</td>\n",
              "      <td>0.623490</td>\n",
              "      <td>0.781831</td>\n",
              "      <td>0.62349</td>\n",
              "    </tr>\n",
              "    <tr>\n",
              "      <th>1</th>\n",
              "      <td>2</td>\n",
              "      <td>225</td>\n",
              "      <td>215</td>\n",
              "      <td>TOV025</td>\n",
              "      <td>SouthEastAsia</td>\n",
              "      <td>HKG</td>\n",
              "      <td>Asia/Hong_Kong</td>\n",
              "      <td>F</td>\n",
              "      <td>279600</td>\n",
              "      <td>-0.195090</td>\n",
              "      <td>-0.980785</td>\n",
              "      <td>0.946930</td>\n",
              "      <td>-0.321439</td>\n",
              "      <td>-0.781831</td>\n",
              "      <td>0.623490</td>\n",
              "      <td>0.781831</td>\n",
              "      <td>0.62349</td>\n",
              "    </tr>\n",
              "    <tr>\n",
              "      <th>2</th>\n",
              "      <td>2</td>\n",
              "      <td>225</td>\n",
              "      <td>220</td>\n",
              "      <td>TOV025</td>\n",
              "      <td>SouthEastAsia</td>\n",
              "      <td>HKG</td>\n",
              "      <td>Asia/Hong_Kong</td>\n",
              "      <td>F</td>\n",
              "      <td>279600</td>\n",
              "      <td>-0.195090</td>\n",
              "      <td>-0.980785</td>\n",
              "      <td>0.342020</td>\n",
              "      <td>-0.939693</td>\n",
              "      <td>-0.781831</td>\n",
              "      <td>0.623490</td>\n",
              "      <td>0.781831</td>\n",
              "      <td>0.62349</td>\n",
              "    </tr>\n",
              "    <tr>\n",
              "      <th>3</th>\n",
              "      <td>2</td>\n",
              "      <td>225</td>\n",
              "      <td>215</td>\n",
              "      <td>TOV025</td>\n",
              "      <td>SouthEastAsia</td>\n",
              "      <td>HKG</td>\n",
              "      <td>Asia/Hong_Kong</td>\n",
              "      <td>F</td>\n",
              "      <td>279600</td>\n",
              "      <td>-0.625923</td>\n",
              "      <td>-0.779884</td>\n",
              "      <td>0.946930</td>\n",
              "      <td>-0.321439</td>\n",
              "      <td>-0.781831</td>\n",
              "      <td>0.623490</td>\n",
              "      <td>0.781831</td>\n",
              "      <td>0.62349</td>\n",
              "    </tr>\n",
              "    <tr>\n",
              "      <th>4</th>\n",
              "      <td>2</td>\n",
              "      <td>225</td>\n",
              "      <td>220</td>\n",
              "      <td>TOV025</td>\n",
              "      <td>SouthEastAsia</td>\n",
              "      <td>HKG</td>\n",
              "      <td>Asia/Hong_Kong</td>\n",
              "      <td>F</td>\n",
              "      <td>279600</td>\n",
              "      <td>-0.625923</td>\n",
              "      <td>-0.779884</td>\n",
              "      <td>0.342020</td>\n",
              "      <td>-0.939693</td>\n",
              "      <td>-0.781831</td>\n",
              "      <td>0.623490</td>\n",
              "      <td>0.781831</td>\n",
              "      <td>0.62349</td>\n",
              "    </tr>\n",
              "    <tr>\n",
              "      <th>...</th>\n",
              "      <td>...</td>\n",
              "      <td>...</td>\n",
              "      <td>...</td>\n",
              "      <td>...</td>\n",
              "      <td>...</td>\n",
              "      <td>...</td>\n",
              "      <td>...</td>\n",
              "      <td>...</td>\n",
              "      <td>...</td>\n",
              "      <td>...</td>\n",
              "      <td>...</td>\n",
              "      <td>...</td>\n",
              "      <td>...</td>\n",
              "      <td>...</td>\n",
              "      <td>...</td>\n",
              "      <td>...</td>\n",
              "      <td>...</td>\n",
              "    </tr>\n",
              "    <tr>\n",
              "      <th>714787</th>\n",
              "      <td>4</td>\n",
              "      <td>155</td>\n",
              "      <td>140</td>\n",
              "      <td>VGT027</td>\n",
              "      <td>Japan</td>\n",
              "      <td>TYO</td>\n",
              "      <td>Asia/Tokyo</td>\n",
              "      <td>F</td>\n",
              "      <td>373100</td>\n",
              "      <td>0.932008</td>\n",
              "      <td>-0.362438</td>\n",
              "      <td>-0.362438</td>\n",
              "      <td>-0.932008</td>\n",
              "      <td>0.974928</td>\n",
              "      <td>-0.222521</td>\n",
              "      <td>-0.781831</td>\n",
              "      <td>0.62349</td>\n",
              "    </tr>\n",
              "    <tr>\n",
              "      <th>714788</th>\n",
              "      <td>4</td>\n",
              "      <td>155</td>\n",
              "      <td>150</td>\n",
              "      <td>VGT027</td>\n",
              "      <td>Japan</td>\n",
              "      <td>TYO</td>\n",
              "      <td>Asia/Tokyo</td>\n",
              "      <td>F</td>\n",
              "      <td>373100</td>\n",
              "      <td>0.932008</td>\n",
              "      <td>-0.362438</td>\n",
              "      <td>-0.976296</td>\n",
              "      <td>-0.216440</td>\n",
              "      <td>0.974928</td>\n",
              "      <td>-0.222521</td>\n",
              "      <td>-0.781831</td>\n",
              "      <td>0.62349</td>\n",
              "    </tr>\n",
              "    <tr>\n",
              "      <th>714789</th>\n",
              "      <td>4</td>\n",
              "      <td>155</td>\n",
              "      <td>160</td>\n",
              "      <td>VGT027</td>\n",
              "      <td>Japan</td>\n",
              "      <td>TYO</td>\n",
              "      <td>Asia/Tokyo</td>\n",
              "      <td>F</td>\n",
              "      <td>404200</td>\n",
              "      <td>0.932008</td>\n",
              "      <td>-0.362438</td>\n",
              "      <td>0.422618</td>\n",
              "      <td>-0.906308</td>\n",
              "      <td>0.974928</td>\n",
              "      <td>-0.222521</td>\n",
              "      <td>-0.781831</td>\n",
              "      <td>0.62349</td>\n",
              "    </tr>\n",
              "    <tr>\n",
              "      <th>714790</th>\n",
              "      <td>4</td>\n",
              "      <td>155</td>\n",
              "      <td>150</td>\n",
              "      <td>VGT027</td>\n",
              "      <td>Japan</td>\n",
              "      <td>TYO</td>\n",
              "      <td>Asia/Tokyo</td>\n",
              "      <td>F</td>\n",
              "      <td>382000</td>\n",
              "      <td>0.932008</td>\n",
              "      <td>-0.362438</td>\n",
              "      <td>0.216440</td>\n",
              "      <td>-0.976296</td>\n",
              "      <td>0.974928</td>\n",
              "      <td>-0.222521</td>\n",
              "      <td>-0.781831</td>\n",
              "      <td>0.62349</td>\n",
              "    </tr>\n",
              "    <tr>\n",
              "      <th>714791</th>\n",
              "      <td>4</td>\n",
              "      <td>150</td>\n",
              "      <td>160</td>\n",
              "      <td>VGT027</td>\n",
              "      <td>Japan</td>\n",
              "      <td>TYO</td>\n",
              "      <td>Asia/Tokyo</td>\n",
              "      <td>F</td>\n",
              "      <td>404200</td>\n",
              "      <td>0.555570</td>\n",
              "      <td>-0.831470</td>\n",
              "      <td>0.422618</td>\n",
              "      <td>-0.906308</td>\n",
              "      <td>0.974928</td>\n",
              "      <td>-0.222521</td>\n",
              "      <td>-0.781831</td>\n",
              "      <td>0.62349</td>\n",
              "    </tr>\n",
              "  </tbody>\n",
              "</table>\n",
              "<p>714792 rows × 17 columns</p>\n",
              "</div>"
            ],
            "text/plain": [
              "        nights  departure_jt  arrival_jt agentcode    partition_0 partition_1  \\\n",
              "0            2           230         230    WHY002  SouthEastAsia         HKG   \n",
              "1            2           225         215    TOV025  SouthEastAsia         HKG   \n",
              "2            2           225         220    TOV025  SouthEastAsia         HKG   \n",
              "3            2           225         215    TOV025  SouthEastAsia         HKG   \n",
              "4            2           225         220    TOV025  SouthEastAsia         HKG   \n",
              "...        ...           ...         ...       ...            ...         ...   \n",
              "714787       4           155         140    VGT027          Japan         TYO   \n",
              "714788       4           155         150    VGT027          Japan         TYO   \n",
              "714789       4           155         160    VGT027          Japan         TYO   \n",
              "714790       4           155         150    VGT027          Japan         TYO   \n",
              "714791       4           150         160    VGT027          Japan         TYO   \n",
              "\n",
              "             time_zone baggagetype  total_fare  departure_time_sin  \\\n",
              "0       Asia/Hong_Kong           F      249700           -0.659346   \n",
              "1       Asia/Hong_Kong           F      279600           -0.195090   \n",
              "2       Asia/Hong_Kong           F      279600           -0.195090   \n",
              "3       Asia/Hong_Kong           F      279600           -0.625923   \n",
              "4       Asia/Hong_Kong           F      279600           -0.625923   \n",
              "...                ...         ...         ...                 ...   \n",
              "714787      Asia/Tokyo           F      373100            0.932008   \n",
              "714788      Asia/Tokyo           F      373100            0.932008   \n",
              "714789      Asia/Tokyo           F      404200            0.932008   \n",
              "714790      Asia/Tokyo           F      382000            0.932008   \n",
              "714791      Asia/Tokyo           F      404200            0.555570   \n",
              "\n",
              "        departure_time_cos  arrival_time_sin  arrival_time_cos  dep_week_sin  \\\n",
              "0                -0.751840          0.722364         -0.691513     -0.781831   \n",
              "1                -0.980785          0.946930         -0.321439     -0.781831   \n",
              "2                -0.980785          0.342020         -0.939693     -0.781831   \n",
              "3                -0.779884          0.946930         -0.321439     -0.781831   \n",
              "4                -0.779884          0.342020         -0.939693     -0.781831   \n",
              "...                    ...               ...               ...           ...   \n",
              "714787           -0.362438         -0.362438         -0.932008      0.974928   \n",
              "714788           -0.362438         -0.976296         -0.216440      0.974928   \n",
              "714789           -0.362438          0.422618         -0.906308      0.974928   \n",
              "714790           -0.362438          0.216440         -0.976296      0.974928   \n",
              "714791           -0.831470          0.422618         -0.906308      0.974928   \n",
              "\n",
              "        dep_week_cos  arr_week_sin  arr_week_cos  \n",
              "0           0.623490      0.781831       0.62349  \n",
              "1           0.623490      0.781831       0.62349  \n",
              "2           0.623490      0.781831       0.62349  \n",
              "3           0.623490      0.781831       0.62349  \n",
              "4           0.623490      0.781831       0.62349  \n",
              "...              ...           ...           ...  \n",
              "714787     -0.222521     -0.781831       0.62349  \n",
              "714788     -0.222521     -0.781831       0.62349  \n",
              "714789     -0.222521     -0.781831       0.62349  \n",
              "714790     -0.222521     -0.781831       0.62349  \n",
              "714791     -0.222521     -0.781831       0.62349  \n",
              "\n",
              "[714792 rows x 17 columns]"
            ]
          },
          "execution_count": 56,
          "metadata": {},
          "output_type": "execute_result"
        }
      ],
      "source": [
        "df"
      ]
    },
    {
      "cell_type": "code",
      "execution_count": 57,
      "metadata": {
        "id": "6-lNaoXTfSQs"
      },
      "outputs": [],
      "source": [
        "def optimize_dataframe(df):\n",
        "    \"\"\"\n",
        "    데이터프레임의 dtype을 최소화하여 메모리를 최적화하는 함수.\n",
        "\n",
        "    Parameters:\n",
        "    df (pd.DataFrame): 최적화할 데이터프레임\n",
        "\n",
        "    Returns:\n",
        "    pd.DataFrame: 최적화된 데이터프레임\n",
        "    \"\"\"\n",
        "    # 정수형 컬럼 최적화\n",
        "    int_columns = df.select_dtypes(include=['int64']).columns\n",
        "    for col in int_columns:\n",
        "        if df[col].min() >= np.iinfo(np.int8).min and df[col].max() <= np.iinfo(np.int8).max:\n",
        "            df[col] = df[col].astype(np.int8)\n",
        "        elif df[col].min() >= np.iinfo(np.int16).min and df[col].max() <= np.iinfo(np.int16).max:\n",
        "            df[col] = df[col].astype(np.int16)\n",
        "        elif df[col].min() >= np.iinfo(np.int32).min and df[col].max() <= np.iinfo(np.int32).max:\n",
        "            df[col] = df[col].astype(np.int32)\n",
        "        else:\n",
        "            df[col] = df[col].astype(np.int64)\n",
        "\n",
        "    # 부동소수점 컬럼 최적화\n",
        "    float_columns = df.select_dtypes(include=['float64']).columns\n",
        "    for col in float_columns:\n",
        "        df[col] = df[col].astype(np.float32)\n",
        "\n",
        "    # 객체형 컬럼 최적화\n",
        "    object_columns = df.select_dtypes(include=['object']).columns\n",
        "    for col in object_columns:\n",
        "        num_unique_values = len(df[col].unique())\n",
        "        num_total_values = len(df[col])\n",
        "        if num_unique_values / num_total_values < 0.5:\n",
        "            df[col] = df[col].astype('category')\n",
        "\n",
        "    return df\n",
        "df = optimize_dataframe(df)"
      ]
    },
    {
      "cell_type": "code",
      "execution_count": 60,
      "metadata": {},
      "outputs": [],
      "source": [
        "onehot_col = df.select_dtypes(include=['category']).columns\n",
        "df_rf = pd.get_dummies(df, columns=onehot_col, drop_first=True)\n"
      ]
    },
    {
      "cell_type": "code",
      "execution_count": 61,
      "metadata": {},
      "outputs": [],
      "source": [
        "# df\n",
        "\n",
        "# label_encoder = LabelEncoder()\n",
        "\n",
        "# categorical_features = df.select_dtypes(include=['category']).columns\n",
        "\n",
        "# for feature in categorical_features:\n",
        "#     le = LabelEncoder()\n",
        "#     df[feature] = le.fit_transform(df[feature])\n"
      ]
    },
    {
      "cell_type": "code",
      "execution_count": 62,
      "metadata": {
        "id": "9Mh45Vt55eJM"
      },
      "outputs": [
        {
          "name": "stdout",
          "output_type": "stream",
          "text": [
            "<class 'pandas.core.frame.DataFrame'>\n",
            "RangeIndex: 714792 entries, 0 to 714791\n",
            "Data columns (total 17 columns):\n",
            " #   Column              Non-Null Count   Dtype   \n",
            "---  ------              --------------   -----   \n",
            " 0   nights              714792 non-null  int8    \n",
            " 1   departure_jt        714792 non-null  int16   \n",
            " 2   arrival_jt          714792 non-null  int16   \n",
            " 3   agentcode           714792 non-null  category\n",
            " 4   partition_0         714792 non-null  category\n",
            " 5   partition_1         714792 non-null  category\n",
            " 6   time_zone           714792 non-null  category\n",
            " 7   baggagetype         714792 non-null  category\n",
            " 8   total_fare          714792 non-null  int32   \n",
            " 9   departure_time_sin  714792 non-null  float32 \n",
            " 10  departure_time_cos  714792 non-null  float32 \n",
            " 11  arrival_time_sin    714792 non-null  float32 \n",
            " 12  arrival_time_cos    714792 non-null  float32 \n",
            " 13  dep_week_sin        714792 non-null  float32 \n",
            " 14  dep_week_cos        714792 non-null  float32 \n",
            " 15  arr_week_sin        714792 non-null  float32 \n",
            " 16  arr_week_cos        714792 non-null  float32 \n",
            "dtypes: category(5), float32(8), int16(2), int32(1), int8(1)\n",
            "memory usage: 31.4 MB\n"
          ]
        }
      ],
      "source": [
        "# 메모리 최적화로 메모리 1/3으로 감소\n",
        "df.info()"
      ]
    },
    {
      "cell_type": "code",
      "execution_count": 63,
      "metadata": {
        "id": "vIuYVriffST2"
      },
      "outputs": [],
      "source": [
        "# 사용하지 않을 컬럼 분리\n",
        "# tz = df['time_zone']\n",
        "# df = df.drop(columns=['time_zone'])\n",
        "\n",
        "# 피처와 타겟 변수 분리\n",
        "X = df.drop(columns=['total_fare'])\n",
        "y = df['total_fare']\n",
        "\n",
        "# 범주형 피처 식별\n",
        "categorical_features = ['agentcode', 'partition_0', 'partition_1','time_zone' ,'baggagetype']\n",
        "\n",
        "# 원-핫 인코딩 적용\n",
        "preprocessor = ColumnTransformer(\n",
        "    transformers=[\n",
        "        ('cat', OneHotEncoder(), categorical_features)\n",
        "    ],\n",
        "    remainder='passthrough'  # 나머지 컬럼은 그대로 유지\n",
        ")\n",
        "\n",
        "# 데이터 인코딩 및 변환\n",
        "X_encoded = preprocessor.fit_transform(X)\n",
        "\n",
        "# 학습 데이터, 검증 데이터, 테스트 데이터 분리\n",
        "X_train, X_temp, y_train, y_temp = train_test_split(X_encoded, y, test_size=0.4, random_state=42)\n",
        "X_val, X_test, y_val, y_test = train_test_split(X_temp, y_temp, test_size=0.5, random_state=42)\n",
        "\n",
        "# LightGBM 데이터셋 생성\n",
        "train_data = lgb.Dataset(X_train, label=y_train)\n",
        "val_data = lgb.Dataset(X_val, label=y_val, reference=train_data)\n"
      ]
    },
    {
      "cell_type": "code",
      "execution_count": 64,
      "metadata": {
        "id": "MqbGOncZfSXN"
      },
      "outputs": [],
      "source": [
        "params = {\n",
        "    'objective': 'regression',  # 회귀\n",
        "    'metric': 'rmse',  # 평가 지표 (Root Mean Squared Error)\n",
        "    'boosting_type': 'gbdt',\n",
        "    'learning_rate': 0.1,\n",
        "    'num_leaves': 31,\n",
        "    'max_depth': -1,\n",
        "    'feature_fraction': 0.9,\n",
        "    'bagging_fraction': 0.8,\n",
        "    'bagging_freq': 5,\n",
        "    'verbose': -1,\n",
        "    'lambda_l2': 1.0,  # L2 정규화 (과적합 방지)\n",
        "    'device': 'gpu'  # GPU 사용 설정\n",
        "}"
      ]
    },
    {
      "cell_type": "code",
      "execution_count": 65,
      "metadata": {
        "id": "5k2fx1QtA2aI"
      },
      "outputs": [
        {
          "name": "stdout",
          "output_type": "stream",
          "text": [
            "Training until validation scores don't improve for 50 rounds\n",
            "[50]\tvalid_0's rmse: 230943\n",
            "[100]\tvalid_0's rmse: 213681\n",
            "[150]\tvalid_0's rmse: 203034\n",
            "[200]\tvalid_0's rmse: 195741\n",
            "[250]\tvalid_0's rmse: 189786\n",
            "[300]\tvalid_0's rmse: 185492\n",
            "[350]\tvalid_0's rmse: 181943\n",
            "[400]\tvalid_0's rmse: 179001\n",
            "[450]\tvalid_0's rmse: 176895\n",
            "[500]\tvalid_0's rmse: 175013\n",
            "[550]\tvalid_0's rmse: 173494\n",
            "[600]\tvalid_0's rmse: 172115\n",
            "[650]\tvalid_0's rmse: 171142\n",
            "[700]\tvalid_0's rmse: 170468\n",
            "[750]\tvalid_0's rmse: 169883\n",
            "[800]\tvalid_0's rmse: 169291\n",
            "[850]\tvalid_0's rmse: 168799\n",
            "[900]\tvalid_0's rmse: 168158\n",
            "[950]\tvalid_0's rmse: 167751\n",
            "[1000]\tvalid_0's rmse: 167326\n",
            "[1050]\tvalid_0's rmse: 167212\n",
            "[1100]\tvalid_0's rmse: 166901\n",
            "[1150]\tvalid_0's rmse: 166506\n",
            "[1200]\tvalid_0's rmse: 166240\n",
            "[1250]\tvalid_0's rmse: 165999\n",
            "[1300]\tvalid_0's rmse: 165769\n",
            "[1350]\tvalid_0's rmse: 165508\n",
            "[1400]\tvalid_0's rmse: 165435\n",
            "[1450]\tvalid_0's rmse: 165232\n",
            "[1500]\tvalid_0's rmse: 165052\n",
            "[1550]\tvalid_0's rmse: 164802\n",
            "[1600]\tvalid_0's rmse: 164701\n",
            "[1650]\tvalid_0's rmse: 164525\n",
            "[1700]\tvalid_0's rmse: 164454\n",
            "[1750]\tvalid_0's rmse: 164398\n",
            "[1800]\tvalid_0's rmse: 164055\n",
            "[1850]\tvalid_0's rmse: 164083\n",
            "Early stopping, best iteration is:\n",
            "[1810]\tvalid_0's rmse: 164007\n"
          ]
        }
      ],
      "source": [
        "\n",
        "# 학습 진행도를 출력하기 위해 콜백 함수 사용\n",
        "tqdm_callback = lgb.callback.log_evaluation(period=50)\n",
        "early_stopping_callback = lgb.early_stopping(stopping_rounds=50)\n",
        "\n",
        "# LightGBM 모델 학습\n",
        "model = lgb.train(params, train_data, valid_sets=[val_data], num_boost_round=10000, callbacks=[tqdm_callback, early_stopping_callback])"
      ]
    },
    {
      "cell_type": "code",
      "execution_count": 67,
      "metadata": {},
      "outputs": [
        {
          "name": "stderr",
          "output_type": "stream",
          "text": [
            "  0%|          | 2/1000 [07:11<59:20:18, 214.05s/it]"
          ]
        }
      ],
      "source": [
        "from sklearn.ensemble import RandomForestRegressor\n",
        "\n",
        "\n",
        "# 랜덤 포레스트 회귀 모델 생성\n",
        "rf = RandomForestRegressor(n_estimators=1000, warm_start=True, random_state=42)\n",
        "\n",
        "# 초기 설정\n",
        "best_mse = float(\"inf\")\n",
        "early_stopping_rounds = 50\n",
        "stopping_counter = 0\n",
        "eval_period = 50\n",
        "\n",
        "# 학습 과정\n",
        "for i in tqdm(range(1, rf.n_estimators + 1)):\n",
        "    rf.n_estimators = i\n",
        "    rf.fit(X_train, y_train)\n",
        "    \n",
        "    if i % eval_period == 0:\n",
        "        y_pred_valid = rf.predict(X_val)\n",
        "        mse_valid = mean_squared_error(y_val, y_pred_valid)\n",
        "        \n",
        "        print(f\"Iteration {i}, Validation MSE: {mse_valid}\")\n",
        "        \n",
        "        if mse_valid < best_mse:\n",
        "            best_mse = mse_valid\n",
        "            stopping_counter = 0\n",
        "        else:\n",
        "            stopping_counter += 1\n",
        "            \n",
        "        if stopping_counter >= early_stopping_rounds:\n",
        "            print(\"Early stopping triggered\")\n",
        "            break\n",
        "\n",
        "# 최종 모델 평가\n",
        "y_pred_train = rf.predict(X_train)\n",
        "y_pred_valid = rf.predict(X_val)\n",
        "\n",
        "mse_train = mean_squared_error(y_train, y_pred_train)\n",
        "mse_valid = mean_squared_error(y_val, y_pred_valid)\n",
        "\n",
        "\n",
        "print(f\"Final Train MSE: {mse_train}\")\n",
        "print(f\"Final Validation MSE: {mse_valid}\")"
      ]
    },
    {
      "cell_type": "code",
      "execution_count": null,
      "metadata": {
        "id": "NZMnfPTXdgR5"
      },
      "outputs": [
        {
          "name": "stdout",
          "output_type": "stream",
          "text": [
            "RMSE: 160684.5748\n"
          ]
        }
      ],
      "source": [
        "# 테스트 데이터에 대한 예측\n",
        "y_pred = model.predict(X_test, num_iteration=model.best_iteration)\n",
        "\n",
        "# 모델 평가\n",
        "mse = mean_squared_error(y_test, y_pred)\n",
        "rmse = mse ** 0.5\n",
        "print(f'RMSE: {rmse:.4f}')"
      ]
    },
    {
      "cell_type": "code",
      "execution_count": 4,
      "metadata": {
        "id": "tqRXE3L_ulXp"
      },
      "outputs": [
        {
          "ename": "NameError",
          "evalue": "name 'df' is not defined",
          "output_type": "error",
          "traceback": [
            "\u001b[1;31m---------------------------------------------------------------------------\u001b[0m",
            "\u001b[1;31mNameError\u001b[0m                                 Traceback (most recent call last)",
            "Cell \u001b[1;32mIn[4], line 1\u001b[0m\n\u001b[1;32m----> 1\u001b[0m \u001b[43mdf\u001b[49m\u001b[38;5;241m.\u001b[39mcolumns\u001b[38;5;241m.\u001b[39mto_list()\n",
            "\u001b[1;31mNameError\u001b[0m: name 'df' is not defined"
          ]
        }
      ],
      "source": [
        "df.columns.to_list()"
      ]
    },
    {
      "cell_type": "code",
      "execution_count": 25,
      "metadata": {
        "id": "Ub8SDTJ1f51b"
      },
      "outputs": [
        {
          "ename": "ImportError",
          "evalue": "Matplotlib requires numpy>=1.23; you have 1.22.4",
          "output_type": "error",
          "traceback": [
            "\u001b[1;31m---------------------------------------------------------------------------\u001b[0m",
            "\u001b[1;31mImportError\u001b[0m                               Traceback (most recent call last)",
            "Cell \u001b[1;32mIn[25], line 1\u001b[0m\n\u001b[1;32m----> 1\u001b[0m \u001b[38;5;28;01mimport\u001b[39;00m \u001b[38;5;21;01mmatplotlib\u001b[39;00m\u001b[38;5;21;01m.\u001b[39;00m\u001b[38;5;21;01mpyplot\u001b[39;00m \u001b[38;5;28;01mas\u001b[39;00m \u001b[38;5;21;01mplt\u001b[39;00m\n\u001b[0;32m      2\u001b[0m \u001b[38;5;28;01mimport\u001b[39;00m \u001b[38;5;21;01mnumpy\u001b[39;00m \u001b[38;5;28;01mas\u001b[39;00m \u001b[38;5;21;01mnp\u001b[39;00m\n\u001b[0;32m      3\u001b[0m \u001b[38;5;66;03m# 피처 중요도 추출\u001b[39;00m\n",
            "File \u001b[1;32mc:\\Users\\hcho0\\anaconda3\\envs\\flight\\lib\\site-packages\\matplotlib\\__init__.py:291\u001b[0m\n\u001b[0;32m    286\u001b[0m         \u001b[38;5;28;01mif\u001b[39;00m parse_version(module\u001b[38;5;241m.\u001b[39m__version__) \u001b[38;5;241m<\u001b[39m parse_version(minver):\n\u001b[0;32m    287\u001b[0m             \u001b[38;5;28;01mraise\u001b[39;00m \u001b[38;5;167;01mImportError\u001b[39;00m(\u001b[38;5;124mf\u001b[39m\u001b[38;5;124m\"\u001b[39m\u001b[38;5;124mMatplotlib requires \u001b[39m\u001b[38;5;132;01m{\u001b[39;00mmodname\u001b[38;5;132;01m}\u001b[39;00m\u001b[38;5;124m>=\u001b[39m\u001b[38;5;132;01m{\u001b[39;00mminver\u001b[38;5;132;01m}\u001b[39;00m\u001b[38;5;124m; \u001b[39m\u001b[38;5;124m\"\u001b[39m\n\u001b[0;32m    288\u001b[0m                               \u001b[38;5;124mf\u001b[39m\u001b[38;5;124m\"\u001b[39m\u001b[38;5;124myou have \u001b[39m\u001b[38;5;132;01m{\u001b[39;00mmodule\u001b[38;5;241m.\u001b[39m__version__\u001b[38;5;132;01m}\u001b[39;00m\u001b[38;5;124m\"\u001b[39m)\n\u001b[1;32m--> 291\u001b[0m \u001b[43m_check_versions\u001b[49m\u001b[43m(\u001b[49m\u001b[43m)\u001b[49m\n\u001b[0;32m    294\u001b[0m \u001b[38;5;66;03m# The decorator ensures this always returns the same handler (and it is only\u001b[39;00m\n\u001b[0;32m    295\u001b[0m \u001b[38;5;66;03m# attached once).\u001b[39;00m\n\u001b[0;32m    296\u001b[0m \u001b[38;5;129m@functools\u001b[39m\u001b[38;5;241m.\u001b[39mcache\n\u001b[0;32m    297\u001b[0m \u001b[38;5;28;01mdef\u001b[39;00m \u001b[38;5;21m_ensure_handler\u001b[39m():\n",
            "File \u001b[1;32mc:\\Users\\hcho0\\anaconda3\\envs\\flight\\lib\\site-packages\\matplotlib\\__init__.py:287\u001b[0m, in \u001b[0;36m_check_versions\u001b[1;34m()\u001b[0m\n\u001b[0;32m    285\u001b[0m module \u001b[38;5;241m=\u001b[39m importlib\u001b[38;5;241m.\u001b[39mimport_module(modname)\n\u001b[0;32m    286\u001b[0m \u001b[38;5;28;01mif\u001b[39;00m parse_version(module\u001b[38;5;241m.\u001b[39m__version__) \u001b[38;5;241m<\u001b[39m parse_version(minver):\n\u001b[1;32m--> 287\u001b[0m     \u001b[38;5;28;01mraise\u001b[39;00m \u001b[38;5;167;01mImportError\u001b[39;00m(\u001b[38;5;124mf\u001b[39m\u001b[38;5;124m\"\u001b[39m\u001b[38;5;124mMatplotlib requires \u001b[39m\u001b[38;5;132;01m{\u001b[39;00mmodname\u001b[38;5;132;01m}\u001b[39;00m\u001b[38;5;124m>=\u001b[39m\u001b[38;5;132;01m{\u001b[39;00mminver\u001b[38;5;132;01m}\u001b[39;00m\u001b[38;5;124m; \u001b[39m\u001b[38;5;124m\"\u001b[39m\n\u001b[0;32m    288\u001b[0m                       \u001b[38;5;124mf\u001b[39m\u001b[38;5;124m\"\u001b[39m\u001b[38;5;124myou have \u001b[39m\u001b[38;5;132;01m{\u001b[39;00mmodule\u001b[38;5;241m.\u001b[39m__version__\u001b[38;5;132;01m}\u001b[39;00m\u001b[38;5;124m\"\u001b[39m)\n",
            "\u001b[1;31mImportError\u001b[0m: Matplotlib requires numpy>=1.23; you have 1.22.4"
          ]
        }
      ],
      "source": [
        "import matplotlib.pyplot as plt\n",
        "# 피처 중요도 추출\n",
        "importance = model.feature_importance(importance_type='split')\n",
        "feature_names = model.feature_name()\n",
        "\n",
        "importance_df = pd.DataFrame({\n",
        "    'feature': feature_names,\n",
        "    'importance': importance\n",
        "})\n",
        "\n",
        "# 중요도 순으로 정렬\n",
        "importance_df = importance_df.sort_values(by='importance', ascending=False)\n",
        "\n",
        "# 피처 중요도 시각화\n",
        "plt.figure(figsize=(10, 6))\n",
        "plt.barh(importance_df['feature'], importance_df['importance'])\n",
        "plt.xlabel('Importance')\n",
        "plt.ylabel('Feature')\n",
        "plt.title('Feature Importance')\n",
        "plt.gca().invert_yaxis()\n",
        "plt.show()"
      ]
    },
    {
      "cell_type": "code",
      "execution_count": null,
      "metadata": {
        "id": "K2J8Uvr-f585"
      },
      "outputs": [],
      "source": [
        "!pip install shap -q\n",
        "import shap\n",
        "# 데이터셋 샘플링\n",
        "sample_size = 10000  # 예시로 1000개 샘플 사용\n",
        "X_sample = X_test.sample(sample_size, random_state=42)\n",
        "\n",
        "# SHAP 값 계산\n",
        "shap_values_sample = explainer.shap_values(X_sample)\n",
        "\n",
        "# summary_plot으로 샘플링된 데이터의 피처 중요도 및 영향 시각화\n",
        "shap.summary_plot(shap_values_sample, X_sample, plot_type=\"bar\")\n",
        "shap.summary_plot(shap_values_sample, X_sample)\n"
      ]
    },
    {
      "cell_type": "code",
      "execution_count": null,
      "metadata": {
        "id": "fZU2MiVWf6Ac"
      },
      "outputs": [],
      "source": []
    },
    {
      "cell_type": "code",
      "execution_count": null,
      "metadata": {
        "id": "EmORRNflf6D7"
      },
      "outputs": [],
      "source": []
    },
    {
      "cell_type": "code",
      "execution_count": null,
      "metadata": {
        "id": "lKzxXkupf6H7"
      },
      "outputs": [],
      "source": []
    },
    {
      "cell_type": "code",
      "execution_count": null,
      "metadata": {
        "id": "464cR2Grf6Ls"
      },
      "outputs": [],
      "source": []
    },
    {
      "cell_type": "code",
      "execution_count": null,
      "metadata": {
        "id": "qF92WaeSf6Pq"
      },
      "outputs": [],
      "source": []
    },
    {
      "cell_type": "code",
      "execution_count": null,
      "metadata": {
        "id": "s3GglXA1f6Tg"
      },
      "outputs": [],
      "source": []
    },
    {
      "cell_type": "code",
      "execution_count": null,
      "metadata": {
        "id": "7mO2Wlnsf6Xj"
      },
      "outputs": [],
      "source": []
    },
    {
      "cell_type": "code",
      "execution_count": null,
      "metadata": {
        "id": "Rl7WSk1gf6bi"
      },
      "outputs": [],
      "source": []
    },
    {
      "cell_type": "code",
      "execution_count": null,
      "metadata": {
        "id": "OR2qbDsGf6fp"
      },
      "outputs": [],
      "source": []
    },
    {
      "cell_type": "code",
      "execution_count": null,
      "metadata": {
        "id": "KH3vEcCBf6jk"
      },
      "outputs": [],
      "source": []
    },
    {
      "cell_type": "code",
      "execution_count": null,
      "metadata": {
        "id": "q5uMsik1f6oD"
      },
      "outputs": [],
      "source": []
    },
    {
      "cell_type": "code",
      "execution_count": null,
      "metadata": {
        "id": "U97U5yqCf6rv"
      },
      "outputs": [],
      "source": []
    },
    {
      "cell_type": "code",
      "execution_count": null,
      "metadata": {
        "id": "TbKjh4def6vm"
      },
      "outputs": [],
      "source": []
    },
    {
      "cell_type": "code",
      "execution_count": null,
      "metadata": {
        "id": "kEfzNg2cf6zm"
      },
      "outputs": [],
      "source": []
    },
    {
      "cell_type": "code",
      "execution_count": null,
      "metadata": {
        "id": "Vt_9dq4Pf634"
      },
      "outputs": [],
      "source": []
    },
    {
      "cell_type": "code",
      "execution_count": null,
      "metadata": {
        "id": "Lu6GoebGf68U"
      },
      "outputs": [],
      "source": []
    },
    {
      "cell_type": "code",
      "execution_count": null,
      "metadata": {
        "id": "Jla6GXAmf7AZ"
      },
      "outputs": [],
      "source": []
    },
    {
      "cell_type": "code",
      "execution_count": null,
      "metadata": {
        "id": "LC-LG9XLf7D-"
      },
      "outputs": [],
      "source": []
    }
  ],
  "metadata": {
    "accelerator": "GPU",
    "colab": {
      "gpuType": "T4",
      "provenance": []
    },
    "kernelspec": {
      "display_name": "Python 3",
      "name": "python3"
    },
    "language_info": {
      "codemirror_mode": {
        "name": "ipython",
        "version": 3
      },
      "file_extension": ".py",
      "mimetype": "text/x-python",
      "name": "python",
      "nbconvert_exporter": "python",
      "pygments_lexer": "ipython3",
      "version": "3.10.14"
    }
  },
  "nbformat": 4,
  "nbformat_minor": 0
}
