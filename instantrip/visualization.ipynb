{
 "cells": [
  {
   "cell_type": "code",
   "execution_count": null,
   "metadata": {},
   "outputs": [],
   "source": []
  },
  {
   "cell_type": "markdown",
   "metadata": {},
   "source": [
    "```sql\n",
    "WITH InitialData AS (\n",
    "    SELECT \n",
    "        flight_id,\n",
    "        -- 출발 도착 날짜\n",
    "        CAST(SUBSTRING(departure_id, 1, 4) || '-' || SUBSTRING(departure_id, 5, 2) || '-' || SUBSTRING(departure_id, 7, 2) AS DATE) AS DEPARTURE_DATE,\n",
    "        CAST(SUBSTRING(arrival_id, 1, 4) || '-' || SUBSTRING(arrival_id, 5, 2) || '-' || SUBSTRING(arrival_id, 7, 2) AS DATE) AS ARRIVAL_DATE,\n",
    "        -- 출발 도착 경유 횟수\n",
    "        LENGTH(departure_id) - LENGTH(REPLACE(departure_id, '+', '')) AS departure_layover_cnt,\n",
    "        LENGTH(arrival_id) - LENGTH(REPLACE(arrival_id, '+', '')) AS arrival_layover_cnt,\n",
    "        date_parse(departure_detail[1].sdt , '%Y%m%d%H%i') AS departure_sdt,\n",
    "        date_parse(arrival_detail[1].sdt , '%Y%m%d%H%i') AS arrival_sdt,\n",
    "        departure_detail,\n",
    "        arrival_detail,\n",
    "        total_fare,\n",
    "        partition_1\n",
    "    FROM \n",
    "        \"instantrip\".\"20240430\" \n",
    "),\n",
    "DirectFlight AS (\n",
    "SELECT \n",
    "    flight_id,\n",
    "    DEPARTURE_DATE,\n",
    "    ARRIVAL_DATE,\n",
    "    departure_sdt,\n",
    "    arrival_sdt,\n",
    "    date_diff('day', DEPARTURE_DATE, ARRIVAL_DATE) AS nights,\n",
    "    total_fare,\n",
    "    partition_1\n",
    "FROM InitialData\n",
    "WHERE departure_layover_cnt = 0 AND arrival_layover_cnt = 0\n",
    "),\n",
    "GroupedFlights AS (\n",
    "SELECT \n",
    "    flight_id,\n",
    "    DEPARTURE_DATE,\n",
    "    ARRIVAL_DATE,\n",
    "    departure_sdt,\n",
    "    arrival_sdt,\n",
    "    nights,\n",
    "    total_fare,\n",
    "    partition_1,\n",
    "    -- Grouping departure_sdt into 30-minute intervals\n",
    "    DATE_TRUNC('minute', departure_sdt) + INTERVAL '15' minute * CAST(FLOOR(EXTRACT(MINUTE FROM departure_sdt) / 15) AS INTEGER) AS dep_sdt_30min\n",
    "FROM DirectFlight\n",
    ")\n",
    "\n",
    "SELECT \n",
    "    date_format(dep_sdt_30min, '%H%i') AS dep_sdt_30min_formatted,\n",
    "    COUNT(*) AS flight_count\n",
    "FROM GroupedFlights\n",
    "GROUP BY date_format(dep_sdt_30min, '%H%i')\n",
    "ORDER BY date_format(dep_sdt_30min, '%H%i');\n",
    "```"
   ]
  }
 ],
 "metadata": {
  "language_info": {
   "name": "python"
  }
 },
 "nbformat": 4,
 "nbformat_minor": 2
}
