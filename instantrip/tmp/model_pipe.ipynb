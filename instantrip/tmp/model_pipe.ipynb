{
  "cells": [
    {
      "cell_type": "code",
      "execution_count": null,
      "metadata": {
        "id": "JvQPWafGD7F-"
      },
      "outputs": [],
      "source": [
        "# # 날짜 간 차이 계산\n",
        "# df['next_date'] = df['date'] + pd.Timedelta(days=1)\n",
        "# df['date_diff'] = df['next_date'] - df['date']\n",
        "\n",
        "# print(df)\n",
        "\n",
        "# # 시간대 설정 및 변환\n",
        "# df['date_utc'] = df['date'].dt.tz_localize('UTC')\n",
        "# df['date_kst'] = df['date_utc'].dt.tz_convert('Asia/Seoul')\n",
        "\n",
        "\n",
        "# # 범주형 피처 인코딩\n",
        "# df = pd.get_dummies(df, columns=['destination'], drop_first=True)\n",
        "\n",
        "# # 피처와 타겟 분리\n",
        "# X = df.drop(columns=['price'])\n",
        "# y = df['price']\n",
        "\n",
        "# # 비행시간 피처 포함 모델\n",
        "# X_train, X_test, y_train, y_test = train_test_split(X, y, test_size=0.2, random_state=42)\n",
        "# model = RandomForestRegressor(n_estimators=100, random_state=42)\n",
        "# model.fit(X_train, y_train)\n",
        "# y_pred = model.predict(X_test)\n",
        "# print(\"MSE with flight_duration:\", mean_squared_error(y_test, y_pred))\n",
        "\n",
        "# # 비행시간 피처 제거 모델\n",
        "# X = X.drop(columns=['flight_duration'])\n",
        "# X_train, X_test, y_train, y_test = train_test_split(X, y, test_size=0.2, random_state=42)\n",
        "# model = RandomForestRegressor(n_estimators=100, random_state=42)\n",
        "# model.fit(X_train, y_train)\n",
        "# y_pred = model.predict(X_test)\n",
        "# print(\"MSE without flight_duration:\", mean_squared_error(y_test, y_pred))\n"
      ]
    },
    {
      "cell_type": "code",
      "execution_count": null,
      "metadata": {
        "colab": {
          "base_uri": "https://localhost:8080/"
        },
        "id": "yDIvT4kMqnnF",
        "outputId": "b8f8bcbc-6129-4e87-b497-044573f3866b"
      },
      "outputs": [],
      "source": [
        "!git clone --recursive https://github.com/microsoft/LightGBM\n",
        "%cd LightGBM\n",
        "!cmake -B build -S .\n",
        "!cmake --build build -j4"
      ]
    },
    {
      "cell_type": "code",
      "execution_count": null,
      "metadata": {
        "colab": {
          "base_uri": "https://localhost:8080/"
        },
        "id": "QIVyTAc79wki",
        "outputId": "da57e819-227b-433a-bbf3-62318f40cd57"
      },
      "outputs": [],
      "source": [
        "import lightgbm as lgb\n",
        "from sklearn.model_selection import train_test_split\n",
        "from sklearn.preprocessing import OneHotEncoder\n",
        "from sklearn.preprocessing import LabelEncoder\n",
        "from sklearn.compose import ColumnTransformer\n",
        "from sklearn.ensemble import RandomForestRegressor\n",
        "from sklearn.metrics import mean_squared_error, accuracy_score\n",
        "\n",
        "import pandas as pd\n",
        "import numpy as np\n",
        "\n",
        "import warnings\n",
        "warnings.simplefilter(action='ignore', category=pd.errors.SettingWithCopyWarning)\n",
        "\n",
        "# 출발일로 부터 항공권 예매 시점(20240430)과의 날짜 차이 피처 추가 예정\n",
        "now = pd.to_datetime(\"20240430\", format='%Y%m%d')\n",
        "print(\"Timestamp:\", now)"
      ]
    },
    {
      "cell_type": "code",
      "execution_count": null,
      "metadata": {
        "colab": {
          "base_uri": "https://localhost:8080/"
        },
        "id": "mL1BmEWF-xeP",
        "outputId": "acd391d3-dccd-4ec6-b573-2189f927744e"
      },
      "outputs": [],
      "source": [
        "try:\n",
        "    from google.colab import drive\n",
        "    drive.mount('/content/drive')\n",
        "    df = pd.read_csv('/content/drive/MyDrive/직항_머신러닝.csv')\n",
        "except:\n",
        "    df = pd.read_csv('./data/직항_머신러닝.csv')"
      ]
    },
    {
      "cell_type": "code",
      "execution_count": null,
      "metadata": {
        "colab": {
          "base_uri": "https://localhost:8080/",
          "height": 394
        },
        "id": "ie4jdH-ACnsm",
        "outputId": "16bb0d10-0d9c-4152-c511-e5cdb726c182"
      },
      "outputs": [],
      "source": [
        "df.describe(include='all')"
      ]
    },
    {
      "cell_type": "code",
      "execution_count": null,
      "metadata": {
        "colab": {
          "base_uri": "https://localhost:8080/"
        },
        "id": "SIrweHZB9zx6",
        "outputId": "8932c017-b320-4a2f-c3ec-a83868d7b60b"
      },
      "outputs": [],
      "source": [
        "df.info()"
      ]
    },
    {
      "cell_type": "code",
      "execution_count": null,
      "metadata": {
        "colab": {
          "base_uri": "https://localhost:8080/",
          "height": 206
        },
        "id": "DUAW_1hc2Dhg",
        "outputId": "580c4123-2884-4f8a-82d5-be24e932a98e"
      },
      "outputs": [],
      "source": [
        "# jt 비행시간 350은 03시간50분으로 230분으로 변환\n",
        "df['departure_jt'] = df['departure_jt'].apply(lambda x : str(x).zfill(4)).apply(lambda x : int(x[:2])*60+int(x[2:]))\n",
        "df['arrival_jt'] = df['arrival_jt'].apply(lambda x : str(x).zfill(4)).apply(lambda x : int(x[:2])*60+int(x[2:]))\n",
        "\n",
        "df[['departure_jt','arrival_jt']].head()"
      ]
    },
    {
      "cell_type": "code",
      "execution_count": null,
      "metadata": {
        "id": "Hpn08olQ_iID"
      },
      "outputs": [],
      "source": [
        "# str to datetime 형식 변환\n",
        "df['departure_sdt'] = pd.to_datetime(df['departure_sdt'])\n",
        "df['arrival_sdt'] = pd.to_datetime(df['arrival_sdt'])\n",
        "\n",
        "# 시간 분 추출\n",
        "df['departure_hour'] = df['departure_sdt'].apply(lambda x: x.hour)\n",
        "df['departure_minute'] = df['departure_sdt'].apply(lambda x: x.minute)\n",
        "df['arrival_hour'] = df['arrival_sdt'].apply(lambda x: x.hour)\n",
        "df['arrival_minute'] = df['arrival_sdt'].apply(lambda x: x.minute)\n",
        "\n",
        "# 출발 도착 시 분 sin cos 변환\n",
        "df['departure_hour_sin'] = np.sin(2 * np.pi * df['departure_hour'] / 24)\n",
        "df['departure_hour_cos'] = np.cos(2 * np.pi * df['departure_hour'] / 24)\n",
        "df['departure_minute_sin'] = np.sin(2 * np.pi * df['departure_minute'] / 60)\n",
        "df['departure_minute_cos'] = np.cos(2 * np.pi * df['departure_minute'] / 60)\n",
        "\n",
        "df['arrival_hour_sin'] = np.sin(2 * np.pi * df['arrival_hour'] / 24)\n",
        "df['arrival_hour_cos'] = np.cos(2 * np.pi * df['arrival_hour'] / 24)\n",
        "df['arrival_minute_sin'] = np.sin(2 * np.pi * df['arrival_minute'] / 60)\n",
        "df['arrival_minute_cos'] = np.cos(2 * np.pi * df['arrival_minute'] / 60)\n",
        "\n",
        "# 출발 도착 요일 sin cos 변환\n",
        "df['dep_week_sin'] = np.sin(2 * np.pi * df['dep_week'] / 7)\n",
        "df['dep_week_cos'] = np.cos(2 * np.pi * df['dep_week'] / 7)\n",
        "df['arr_week_sin'] = np.sin(2 * np.pi * df['arr_week'] / 7)\n",
        "df['arr_week_cos'] = np.cos(2 * np.pi * df['arr_week'] / 7)\n",
        "\n",
        "\n",
        "drop_col = ['departure_sdt','arrival_sdt',\n",
        "            'departure_hour','departure_minute','arrival_hour','arrival_minute',\n",
        "            'dep_week', 'arr_week']\n",
        "df.drop(columns=drop_col,inplace=True)"
      ]
    },
    {
      "cell_type": "code",
      "execution_count": null,
      "metadata": {
        "id": "tQdAmwucDpyl"
      },
      "outputs": [],
      "source": [
        "# departure_jt, arrival_jt 출발 복귀 비행시간\n",
        "# 직항 항공권 기준 목적지 피처와 다중공산성 문제가 있다고 예상 drop 전후로 모델 학습 후 판단.\n",
        "# 경유 항공권 또는 비행기 도착시 현지시간으로 변환 할 때 사용\n",
        "\n",
        "# drop_jt = ['departure_jt', 'arrival_jt']\n",
        "# df.drop(columns=drop_jt,inplace=True)"
      ]
    },
    {
      "cell_type": "code",
      "execution_count": null,
      "metadata": {
        "colab": {
          "base_uri": "https://localhost:8080/"
        },
        "id": "UcVx0JNEK47e",
        "outputId": "a9ae6798-6dcf-4681-bd19-afb7cbdf2d07"
      },
      "outputs": [],
      "source": [
        "\n",
        "# agentcode\n",
        "# 대행사 별 주력 여행지가 있는지 시각화 필요\n",
        "# 대항사와 여행지의 상관관계가 크다면 다중공산성 의심\n",
        "# 대행사와 항공권 가격의 상관관계 확인 필요\n",
        "df['agentcode'].value_counts()"
      ]
    },
    {
      "cell_type": "code",
      "execution_count": null,
      "metadata": {
        "colab": {
          "base_uri": "https://localhost:8080/"
        },
        "id": "RvBEUW3EfM1g",
        "outputId": "e992e3d3-2ace-4984-e5fd-9208c34f06da"
      },
      "outputs": [],
      "source": [
        "# baggagetype\n",
        "# \"P\" 수화물 포함\n",
        "# [F, C] 수화물 미포함\n",
        "df['baggagetype'].value_counts()"
      ]
    },
    {
      "cell_type": "code",
      "execution_count": null,
      "metadata": {
        "colab": {
          "base_uri": "https://localhost:8080/"
        },
        "id": "HuyKh0oFzf-S",
        "outputId": "cea6d37a-375f-40cb-c3a7-6614c3d7cb31"
      },
      "outputs": [],
      "source": [
        "# 'C', Nan 값을 F로 치환\n",
        "df['baggagetype'] = df['baggagetype'].apply(lambda x: 'F' if x == 'C' else x).fillna('F')\n",
        "df['baggagetype'].value_counts(normalize=True)"
      ]
    },
    {
      "cell_type": "code",
      "execution_count": null,
      "metadata": {
        "colab": {
          "base_uri": "https://localhost:8080/"
        },
        "id": "4l8Q0hcgfR4O",
        "outputId": "06c22f7f-cbb8-4733-9757-d536a6e82b19"
      },
      "outputs": [],
      "source": [
        "df.info()"
      ]
    },
    {
      "cell_type": "code",
      "execution_count": null,
      "metadata": {
        "colab": {
          "base_uri": "https://localhost:8080/",
          "height": 443
        },
        "id": "bj5zoUXjfSM4",
        "outputId": "8dd868c0-e3bf-45da-b7c2-87283406c197"
      },
      "outputs": [],
      "source": [
        "df"
      ]
    },
    {
      "cell_type": "code",
      "execution_count": null,
      "metadata": {
        "id": "6-lNaoXTfSQs"
      },
      "outputs": [],
      "source": [
        "def optimize_dataframe(df):\n",
        "    \"\"\"\n",
        "    데이터프레임의 dtype을 최소화하여 메모리를 최적화하는 함수.\n",
        "\n",
        "    Parameters:\n",
        "    df (pd.DataFrame): 최적화할 데이터프레임\n",
        "\n",
        "    Returns:\n",
        "    pd.DataFrame: 최적화된 데이터프레임\n",
        "    \"\"\"\n",
        "    # 정수형 컬럼 최적화\n",
        "    int_columns = df.select_dtypes(include=['int64']).columns\n",
        "    for col in int_columns:\n",
        "        if df[col].min() >= np.iinfo(np.int8).min and df[col].max() <= np.iinfo(np.int8).max:\n",
        "            df[col] = df[col].astype(np.int8)\n",
        "        elif df[col].min() >= np.iinfo(np.int16).min and df[col].max() <= np.iinfo(np.int16).max:\n",
        "            df[col] = df[col].astype(np.int16)\n",
        "        elif df[col].min() >= np.iinfo(np.int32).min and df[col].max() <= np.iinfo(np.int32).max:\n",
        "            df[col] = df[col].astype(np.int32)\n",
        "        else:\n",
        "            df[col] = df[col].astype(np.int64)\n",
        "\n",
        "    # 부동소수점 컬럼 최적화\n",
        "    float_columns = df.select_dtypes(include=['float64']).columns\n",
        "    for col in float_columns:\n",
        "        df[col] = df[col].astype(np.float32)\n",
        "\n",
        "    # 객체형 컬럼 최적화\n",
        "    object_columns = df.select_dtypes(include=['object']).columns\n",
        "    for col in object_columns:\n",
        "        num_unique_values = len(df[col].unique())\n",
        "        num_total_values = len(df[col])\n",
        "        if num_unique_values / num_total_values < 0.5:\n",
        "            df[col] = df[col].astype('category')\n",
        "\n",
        "    return df\n",
        "df = optimize_dataframe(df)"
      ]
    },
    {
      "cell_type": "code",
      "execution_count": null,
      "metadata": {
        "colab": {
          "base_uri": "https://localhost:8080/"
        },
        "id": "9Mh45Vt55eJM",
        "outputId": "85bcbe9f-9162-419e-e179-fae913463023"
      },
      "outputs": [],
      "source": [
        "# 메모리 최적화로 메모리 1/3으로 감소\n",
        "df.info()"
      ]
    },
    {
      "cell_type": "code",
      "execution_count": null,
      "metadata": {
        "id": "vIuYVriffST2"
      },
      "outputs": [],
      "source": [
        "# 사용하지 않을 컬럼 분리\n",
        "# tz = df['time_zone']\n",
        "# df = df.drop(columns=['time_zone'])\n",
        "\n",
        "# 피처와 타겟 변수 분리\n",
        "X = df.drop(columns=['total_fare'])\n",
        "y = df['total_fare']\n",
        "\n",
        "\n",
        "# 범주형 피처 식별\n",
        "categorical_features = ['agentcode', 'partition_0', 'partition_1', 'time_zone', 'baggagetype']\n",
        "\n",
        "# 라벨 인코딩 적용\n",
        "label_encoders = {}\n",
        "for col in categorical_features:\n",
        "    le = LabelEncoder()\n",
        "    X[col] = le.fit_transform(X[col])\n",
        "    label_encoders[col] = le"
      ]
    },
    {
      "cell_type": "code",
      "execution_count": null,
      "metadata": {
        "id": "9CzvD7wm7wsU"
      },
      "outputs": [],
      "source": [
        "# 학습 데이터, 검증 데이터, 테스트 데이터 분리\n",
        "X_train, X_temp, y_train, y_temp = train_test_split(X, y, test_size=0.4, random_state=42)\n",
        "X_val, X_test, y_val, y_test = train_test_split(X_temp, y_temp, test_size=0.5, random_state=42)\n",
        "\n",
        "# LightGBM 데이터셋 생성\n",
        "train_data = lgb.Dataset(X_train, label=y_train)\n",
        "val_data = lgb.Dataset(X_val, label=y_val, reference=train_data)\n"
      ]
    },
    {
      "cell_type": "code",
      "execution_count": null,
      "metadata": {
        "id": "b3f4t2Gs5d8n"
      },
      "outputs": [],
      "source": [
        "# import seaborn as sns\n",
        "\n",
        "# plt.figure(figsize=(10, 8))\n",
        "# sns.heatmap(df.select_dtypes(include=[int, float]).corr(), annot=True, cmap='coolwarm', linewidths=0.5)\n",
        "# plt.title('Correlation Matrix')\n",
        "# plt.show()"
      ]
    },
    {
      "cell_type": "code",
      "execution_count": null,
      "metadata": {
        "id": "MqbGOncZfSXN"
      },
      "outputs": [],
      "source": [
        "params = {\n",
        "    'objective': 'regression',  # 회귀\n",
        "    'metric': 'rmse',  # 평가 지표 (Root Mean Squared Error)\n",
        "    'boosting_type': 'gbdt',\n",
        "    'learning_rate': 0.1,\n",
        "    'num_leaves': 31,\n",
        "    'max_depth': -1,\n",
        "    'feature_fraction': 0.9,\n",
        "    'bagging_fraction': 0.8,\n",
        "    'bagging_freq': 5,\n",
        "    'verbose': -1,\n",
        "    'lambda_l2': 1.0,  # L2 정규화 (과적합 방지)\n",
        "    'device': 'gpu'  # GPU 사용 설정\n",
        "}"
      ]
    },
    {
      "cell_type": "code",
      "execution_count": null,
      "metadata": {
        "colab": {
          "base_uri": "https://localhost:8080/"
        },
        "id": "5k2fx1QtA2aI",
        "outputId": "966aa064-a41b-4213-c3cc-186e4f039f88"
      },
      "outputs": [],
      "source": [
        "from tqdm import tqdm\n",
        "\n",
        "# 학습 진행도를 출력하기 위해 콜백 함수 사용\n",
        "tqdm_callback = lgb.callback.log_evaluation(period=50)\n",
        "early_stopping_callback = lgb.early_stopping(stopping_rounds=50)\n",
        "\n",
        "# LightGBM 모델 학습\n",
        "model = lgb.train(params, train_data, valid_sets=[val_data], num_boost_round=10000, callbacks=[tqdm_callback, early_stopping_callback])"
      ]
    },
    {
      "cell_type": "code",
      "execution_count": null,
      "metadata": {
        "colab": {
          "base_uri": "https://localhost:8080/"
        },
        "id": "NZMnfPTXdgR5",
        "outputId": "07db583e-a3a8-41db-a40d-5aff48dee4ce"
      },
      "outputs": [],
      "source": [
        "# 테스트 데이터에 대한 예측\n",
        "y_pred = model.predict(X_test, num_iteration=model.best_iteration)\n",
        "\n",
        "# 모델 평가\n",
        "mse = mean_squared_error(y_test, y_pred)\n",
        "rmse = mse ** 0.5\n",
        "print(f'RMSE: {rmse:.4f}')"
      ]
    },
    {
      "cell_type": "code",
      "execution_count": null,
      "metadata": {
        "colab": {
          "base_uri": "https://localhost:8080/",
          "height": 564
        },
        "id": "Ub8SDTJ1f51b",
        "outputId": "d6b47d87-0229-40fa-de01-df2060c62fec"
      },
      "outputs": [],
      "source": [
        "import matplotlib.pyplot as plt\n",
        "\n",
        "# 피처 중요도 추출\n",
        "importance = model.feature_importance(importance_type='split')\n",
        "feature_names = model.feature_name()\n",
        "\n",
        "importance_df = pd.DataFrame({\n",
        "    'feature': feature_names,\n",
        "    'importance': importance\n",
        "})\n",
        "\n",
        "# 중요도 순으로 정렬\n",
        "importance_df = importance_df.sort_values(by='importance', ascending=False)\n",
        "\n",
        "# 피처 중요도 시각화\n",
        "plt.figure(figsize=(10, 6))\n",
        "plt.barh(importance_df['feature'], importance_df['importance'])\n",
        "plt.xlabel('Importance')\n",
        "plt.ylabel('Feature')\n",
        "plt.title('Feature Importance')\n",
        "plt.gca().invert_yaxis()\n",
        "plt.show()"
      ]
    },
    {
      "cell_type": "code",
      "execution_count": null,
      "metadata": {
        "colab": {
          "base_uri": "https://localhost:8080/",
          "height": 1000
        },
        "id": "SjKol8dGCW_A",
        "outputId": "4da37e50-8304-4b7d-b1eb-6dbfacbd776d"
      },
      "outputs": [],
      "source": [
        "import statsmodels.api as sm\n",
        "from statsmodels.stats.outliers_influence import variance_inflation_factor\n",
        "import matplotlib.pyplot as plt\n",
        "import seaborn as sns\n",
        "def analyze_multicollinearity(X, y, figsize=(14, 8)):\n",
        "\n",
        "    # 다중공산성 계산\n",
        "    vif = pd.DataFrame()\n",
        "    vif['Feature'] = X.columns\n",
        "    vif['VIF'] = [variance_inflation_factor(X.values, i) for i in range(X.shape[1])]\n",
        "    print(vif)\n",
        "\n",
        "    # 상관 행렬 계산 및 시각화\n",
        "    corr_data = pd.concat([X, y], axis=1).corr().applymap(lambda x: round(x, 2))\n",
        "    plt.figure(figsize=figsize)\n",
        "    sns.heatmap(corr_data, annot=True, cmap='coolwarm', linewidths=0.5)\n",
        "    plt.title('Correlation Matrix')\n",
        "    plt.show()\n",
        "\n",
        "    # 상수항 추가 (OLS 회귀를 위해)\n",
        "    X = sm.add_constant(X)\n",
        "\n",
        "    # OLS 회귀 모델 적합\n",
        "    model = sm.OLS(y, X).fit()\n",
        "\n",
        "    # 모델 요약 출력\n",
        "    print(model.summary())\n",
        "\n",
        "\n",
        "drop_col = ['partition_0', 'baggagetype', 'departure_jt', 'arr_week_sin','partition_1', 'time_zone',\n",
        "            'departure_hour_sin']\n",
        "droped_X = X.drop(columns = drop_col)\n",
        "\n",
        "analyze_multicollinearity(droped_X,y)"
      ]
    },
    {
      "cell_type": "code",
      "execution_count": null,
      "metadata": {
        "colab": {
          "base_uri": "https://localhost:8080/"
        },
        "id": "ASj5FNDyHsK8",
        "outputId": "0d22d30d-b31a-4873-ef5a-729468062e15"
      },
      "outputs": [],
      "source": [
        "# 학습 데이터, 검증 데이터, 테스트 데이터 분리\n",
        "X_train, X_temp, y_train, y_temp = train_test_split(droped_X, y, test_size=0.4, random_state=42)\n",
        "X_val, X_test, y_val, y_test = train_test_split(X_temp, y_temp, test_size=0.5, random_state=42)\n",
        "\n",
        "# LightGBM 데이터셋 생성\n",
        "train_data = lgb.Dataset(X_train, label=y_train)\n",
        "val_data = lgb.Dataset(X_val, label=y_val, reference=train_data)\n",
        "\n",
        "model = lgb.train(params, train_data, valid_sets=[val_data], num_boost_round=10000, callbacks=[tqdm_callback, early_stopping_callback])"
      ]
    },
    {
      "cell_type": "code",
      "execution_count": null,
      "metadata": {
        "colab": {
          "base_uri": "https://localhost:8080/"
        },
        "id": "EmORRNflf6D7",
        "outputId": "16fe47c5-6ab3-4d38-e607-6f186d574e7b"
      },
      "outputs": [],
      "source": [
        "# 테스트 데이터에 대한 예측\n",
        "y_pred = model.predict(X_test, num_iteration=model.best_iteration)\n",
        "\n",
        "# 모델 평가\n",
        "mse = mean_squared_error(y_test, y_pred)\n",
        "rmse = mse ** 0.5\n",
        "print(f'RMSE: {rmse:.4f}')"
      ]
    },
    {
      "cell_type": "code",
      "execution_count": null,
      "metadata": {
        "colab": {
          "base_uri": "https://localhost:8080/",
          "height": 564
        },
        "id": "lKzxXkupf6H7",
        "outputId": "1afa0ac6-cbc3-4380-e80d-1f0391960f79"
      },
      "outputs": [],
      "source": [
        "# 피처 중요도 추출\n",
        "importance = model.feature_importance(importance_type='split')\n",
        "feature_names = model.feature_name()\n",
        "\n",
        "importance_df = pd.DataFrame({\n",
        "    'feature': feature_names,\n",
        "    'importance': importance\n",
        "})\n",
        "\n",
        "# 중요도 순으로 정렬\n",
        "importance_df = importance_df.sort_values(by='importance', ascending=False)\n",
        "\n",
        "# 피처 중요도 시각화\n",
        "plt.figure(figsize=(10, 6))\n",
        "plt.barh(importance_df['feature'], importance_df['importance'])\n",
        "plt.xlabel('Importance')\n",
        "plt.ylabel('Feature')\n",
        "plt.title('Feature Importance')\n",
        "plt.gca().invert_yaxis()\n",
        "plt.show()"
      ]
    },
    {
      "cell_type": "code",
      "execution_count": null,
      "metadata": {
        "id": "464cR2Grf6Ls"
      },
      "outputs": [],
      "source": []
    },
    {
      "cell_type": "code",
      "execution_count": null,
      "metadata": {
        "id": "qF92WaeSf6Pq"
      },
      "outputs": [],
      "source": []
    },
    {
      "cell_type": "code",
      "execution_count": null,
      "metadata": {
        "id": "s3GglXA1f6Tg"
      },
      "outputs": [],
      "source": []
    },
    {
      "cell_type": "code",
      "execution_count": null,
      "metadata": {
        "id": "7mO2Wlnsf6Xj"
      },
      "outputs": [],
      "source": []
    },
    {
      "cell_type": "code",
      "execution_count": null,
      "metadata": {
        "id": "Rl7WSk1gf6bi"
      },
      "outputs": [],
      "source": []
    },
    {
      "cell_type": "code",
      "execution_count": null,
      "metadata": {
        "id": "OR2qbDsGf6fp"
      },
      "outputs": [],
      "source": []
    },
    {
      "cell_type": "code",
      "execution_count": null,
      "metadata": {
        "id": "KH3vEcCBf6jk"
      },
      "outputs": [],
      "source": []
    },
    {
      "cell_type": "code",
      "execution_count": null,
      "metadata": {
        "id": "q5uMsik1f6oD"
      },
      "outputs": [],
      "source": []
    },
    {
      "cell_type": "code",
      "execution_count": null,
      "metadata": {
        "id": "U97U5yqCf6rv"
      },
      "outputs": [],
      "source": []
    },
    {
      "cell_type": "code",
      "execution_count": null,
      "metadata": {
        "id": "TbKjh4def6vm"
      },
      "outputs": [],
      "source": []
    },
    {
      "cell_type": "code",
      "execution_count": null,
      "metadata": {
        "id": "kEfzNg2cf6zm"
      },
      "outputs": [],
      "source": []
    },
    {
      "cell_type": "code",
      "execution_count": null,
      "metadata": {
        "id": "Vt_9dq4Pf634"
      },
      "outputs": [],
      "source": []
    },
    {
      "cell_type": "code",
      "execution_count": null,
      "metadata": {
        "id": "Lu6GoebGf68U"
      },
      "outputs": [],
      "source": []
    },
    {
      "cell_type": "code",
      "execution_count": null,
      "metadata": {
        "id": "Jla6GXAmf7AZ"
      },
      "outputs": [],
      "source": []
    },
    {
      "cell_type": "code",
      "execution_count": null,
      "metadata": {
        "id": "LC-LG9XLf7D-"
      },
      "outputs": [],
      "source": []
    }
  ],
  "metadata": {
    "accelerator": "GPU",
    "colab": {
      "gpuType": "T4",
      "provenance": []
    },
    "kernelspec": {
      "display_name": "Python 3",
      "name": "python3"
    },
    "language_info": {
      "codemirror_mode": {
        "name": "ipython",
        "version": 3
      },
      "file_extension": ".py",
      "mimetype": "text/x-python",
      "name": "python",
      "nbconvert_exporter": "python",
      "pygments_lexer": "ipython3",
      "version": "3.9.13"
    }
  },
  "nbformat": 4,
  "nbformat_minor": 0
}
